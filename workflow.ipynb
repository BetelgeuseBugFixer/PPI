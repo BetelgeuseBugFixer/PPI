{
 "cells": [
  {
   "cell_type": "markdown",
   "id": "44fe149a",
   "metadata": {},
   "source": [
    "# Import libraries and dependencies"
   ]
  },
  {
   "cell_type": "code",
   "execution_count": 1,
   "id": "43e990ce",
   "metadata": {},
   "outputs": [],
   "source": [
    "import pandas as pd\n",
    "\n",
    "from torch.utils.data import DataLoader, random_split\n",
    "\n",
    "from utility.custom_datasets import ProtT5Dataset, OneHotDataset\n",
    "from models.simple_model.model import ProtENN2_style\n",
    "from utility.helpers import extract_unique_pfams, one_hot_encode_pfams, write_fasta_file"
   ]
  },
  {
   "cell_type": "markdown",
   "id": "bb745d78",
   "metadata": {},
   "source": [
    "# Preparing Dataset"
   ]
  },
  {
   "cell_type": "code",
   "execution_count": 2,
   "id": "3fda92d2",
   "metadata": {},
   "outputs": [
    {
     "data": {
      "text/html": [
       "<div>\n",
       "<style scoped>\n",
       "    .dataframe tbody tr th:only-of-type {\n",
       "        vertical-align: middle;\n",
       "    }\n",
       "\n",
       "    .dataframe tbody tr th {\n",
       "        vertical-align: top;\n",
       "    }\n",
       "\n",
       "    .dataframe thead th {\n",
       "        text-align: right;\n",
       "    }\n",
       "</style>\n",
       "<table border=\"1\" class=\"dataframe\">\n",
       "  <thead>\n",
       "    <tr style=\"text-align: right;\">\n",
       "      <th></th>\n",
       "      <th>protein_id</th>\n",
       "      <th>pfam_tensor</th>\n",
       "      <th>sequence</th>\n",
       "    </tr>\n",
       "  </thead>\n",
       "  <tbody>\n",
       "    <tr>\n",
       "      <th>0</th>\n",
       "      <td>A1AL94</td>\n",
       "      <td>[None, None, None, None, None, None, None, Non...</td>\n",
       "      <td>MSLTTLVTQQAPDFTAEAVMADNSFASITLSSLKGKFVLLLFYPLD...</td>\n",
       "    </tr>\n",
       "    <tr>\n",
       "      <th>1</th>\n",
       "      <td>A0A0F7V1V9</td>\n",
       "      <td>[None, None, None, None, None, None, None, Non...</td>\n",
       "      <td>MAACLRAARLSLRQMEGLIEPSVRGRSSPLSMVRLLPSSSVSSSSP...</td>\n",
       "    </tr>\n",
       "    <tr>\n",
       "      <th>2</th>\n",
       "      <td>Q4UGC8</td>\n",
       "      <td>[None, None, None, None, None, None, None, Non...</td>\n",
       "      <td>MKLTGISLISSLSYIRNTLPLKNTLTAFHTLNTRNNLKSVNRITSV...</td>\n",
       "    </tr>\n",
       "    <tr>\n",
       "      <th>3</th>\n",
       "      <td>A4H879</td>\n",
       "      <td>[None, None, None, None, None, None, None, Non...</td>\n",
       "      <td>MSCGDAKMNEPAPPFEEMALMPNGSFKKINLASYKGKWVVLFFYPL...</td>\n",
       "    </tr>\n",
       "    <tr>\n",
       "      <th>4</th>\n",
       "      <td>A0A0M5IXP6</td>\n",
       "      <td>[None, None, None, None, None, None, None, Non...</td>\n",
       "      <td>MNPSANESGVCSPVQIGDAAPNFQARTTLGEMSLSDYRGRWVLLFS...</td>\n",
       "    </tr>\n",
       "  </tbody>\n",
       "</table>\n",
       "</div>"
      ],
      "text/plain": [
       "   protein_id                                        pfam_tensor  \\\n",
       "0      A1AL94  [None, None, None, None, None, None, None, Non...   \n",
       "1  A0A0F7V1V9  [None, None, None, None, None, None, None, Non...   \n",
       "2      Q4UGC8  [None, None, None, None, None, None, None, Non...   \n",
       "3      A4H879  [None, None, None, None, None, None, None, Non...   \n",
       "4  A0A0M5IXP6  [None, None, None, None, None, None, None, Non...   \n",
       "\n",
       "                                            sequence  \n",
       "0  MSLTTLVTQQAPDFTAEAVMADNSFASITLSSLKGKFVLLLFYPLD...  \n",
       "1  MAACLRAARLSLRQMEGLIEPSVRGRSSPLSMVRLLPSSSVSSSSP...  \n",
       "2  MKLTGISLISSLSYIRNTLPLKNTLTAFHTLNTRNNLKSVNRITSV...  \n",
       "3  MSCGDAKMNEPAPPFEEMALMPNGSFKKINLASYKGKWVVLFFYPL...  \n",
       "4  MNPSANESGVCSPVQIGDAAPNFQARTTLGEMSLSDYRGRWVLLFS...  "
      ]
     },
     "execution_count": 2,
     "metadata": {},
     "output_type": "execute_result"
    }
   ],
   "source": [
    "pk_data = pd.read_pickle(\"dataset/dataset.pkl\")\n",
    "pk_data.reset_index(drop=False, inplace=True, names=[\"protein_id\"])\n",
    "pk_data.head()"
   ]
  },
  {
   "cell_type": "code",
   "execution_count": 3,
   "id": "1f10f181",
   "metadata": {},
   "outputs": [],
   "source": [
    "# creating test dataset\n",
    "pfams = pk_data[:4000].copy()"
   ]
  },
  {
   "cell_type": "markdown",
   "id": "6032c7ef",
   "metadata": {},
   "source": [
    "Extracting all unique pfams from dataset"
   ]
  },
  {
   "cell_type": "code",
   "execution_count": 4,
   "id": "6b3d595e",
   "metadata": {},
   "outputs": [
    {
     "data": {
      "text/plain": [
       "116"
      ]
     },
     "execution_count": 4,
     "metadata": {},
     "output_type": "execute_result"
    }
   ],
   "source": [
    "all_pfams = extract_unique_pfams(pfams[\"pfam_tensor\"])\n",
    "len(all_pfams)"
   ]
  },
  {
   "cell_type": "markdown",
   "id": "21a50aaa",
   "metadata": {},
   "source": [
    "One hot encoding pfams"
   ]
  },
  {
   "cell_type": "code",
   "execution_count": 5,
   "id": "97263b5a",
   "metadata": {},
   "outputs": [],
   "source": [
    "pfams[\"pfam_onehot\"] = one_hot_encode_pfams(pfams[\"pfam_tensor\"],list(all_pfams))"
   ]
  },
  {
   "cell_type": "code",
   "execution_count": 6,
   "id": "71491a76",
   "metadata": {},
   "outputs": [
    {
     "data": {
      "text/html": [
       "<div>\n",
       "<style scoped>\n",
       "    .dataframe tbody tr th:only-of-type {\n",
       "        vertical-align: middle;\n",
       "    }\n",
       "\n",
       "    .dataframe tbody tr th {\n",
       "        vertical-align: top;\n",
       "    }\n",
       "\n",
       "    .dataframe thead th {\n",
       "        text-align: right;\n",
       "    }\n",
       "</style>\n",
       "<table border=\"1\" class=\"dataframe\">\n",
       "  <thead>\n",
       "    <tr style=\"text-align: right;\">\n",
       "      <th></th>\n",
       "      <th>protein_id</th>\n",
       "      <th>pfam_tensor</th>\n",
       "      <th>sequence</th>\n",
       "      <th>pfam_onehot</th>\n",
       "    </tr>\n",
       "  </thead>\n",
       "  <tbody>\n",
       "    <tr>\n",
       "      <th>0</th>\n",
       "      <td>A1AL94</td>\n",
       "      <td>[None, None, None, None, None, None, None, Non...</td>\n",
       "      <td>MSLTTLVTQQAPDFTAEAVMADNSFASITLSSLKGKFVLLLFYPLD...</td>\n",
       "      <td>[[0.0, 0.0, 0.0, 0.0, 0.0, 0.0, 0.0, 0.0, 0.0,...</td>\n",
       "    </tr>\n",
       "    <tr>\n",
       "      <th>1</th>\n",
       "      <td>A0A0F7V1V9</td>\n",
       "      <td>[None, None, None, None, None, None, None, Non...</td>\n",
       "      <td>MAACLRAARLSLRQMEGLIEPSVRGRSSPLSMVRLLPSSSVSSSSP...</td>\n",
       "      <td>[[0.0, 0.0, 0.0, 0.0, 0.0, 0.0, 0.0, 0.0, 0.0,...</td>\n",
       "    </tr>\n",
       "    <tr>\n",
       "      <th>2</th>\n",
       "      <td>Q4UGC8</td>\n",
       "      <td>[None, None, None, None, None, None, None, Non...</td>\n",
       "      <td>MKLTGISLISSLSYIRNTLPLKNTLTAFHTLNTRNNLKSVNRITSV...</td>\n",
       "      <td>[[0.0, 0.0, 0.0, 0.0, 0.0, 0.0, 0.0, 0.0, 0.0,...</td>\n",
       "    </tr>\n",
       "    <tr>\n",
       "      <th>3</th>\n",
       "      <td>A4H879</td>\n",
       "      <td>[None, None, None, None, None, None, None, Non...</td>\n",
       "      <td>MSCGDAKMNEPAPPFEEMALMPNGSFKKINLASYKGKWVVLFFYPL...</td>\n",
       "      <td>[[0.0, 0.0, 0.0, 0.0, 0.0, 0.0, 0.0, 0.0, 0.0,...</td>\n",
       "    </tr>\n",
       "    <tr>\n",
       "      <th>4</th>\n",
       "      <td>A0A0M5IXP6</td>\n",
       "      <td>[None, None, None, None, None, None, None, Non...</td>\n",
       "      <td>MNPSANESGVCSPVQIGDAAPNFQARTTLGEMSLSDYRGRWVLLFS...</td>\n",
       "      <td>[[0.0, 0.0, 0.0, 0.0, 0.0, 0.0, 0.0, 0.0, 0.0,...</td>\n",
       "    </tr>\n",
       "  </tbody>\n",
       "</table>\n",
       "</div>"
      ],
      "text/plain": [
       "   protein_id                                        pfam_tensor  \\\n",
       "0      A1AL94  [None, None, None, None, None, None, None, Non...   \n",
       "1  A0A0F7V1V9  [None, None, None, None, None, None, None, Non...   \n",
       "2      Q4UGC8  [None, None, None, None, None, None, None, Non...   \n",
       "3      A4H879  [None, None, None, None, None, None, None, Non...   \n",
       "4  A0A0M5IXP6  [None, None, None, None, None, None, None, Non...   \n",
       "\n",
       "                                            sequence  \\\n",
       "0  MSLTTLVTQQAPDFTAEAVMADNSFASITLSSLKGKFVLLLFYPLD...   \n",
       "1  MAACLRAARLSLRQMEGLIEPSVRGRSSPLSMVRLLPSSSVSSSSP...   \n",
       "2  MKLTGISLISSLSYIRNTLPLKNTLTAFHTLNTRNNLKSVNRITSV...   \n",
       "3  MSCGDAKMNEPAPPFEEMALMPNGSFKKINLASYKGKWVVLFFYPL...   \n",
       "4  MNPSANESGVCSPVQIGDAAPNFQARTTLGEMSLSDYRGRWVLLFS...   \n",
       "\n",
       "                                         pfam_onehot  \n",
       "0  [[0.0, 0.0, 0.0, 0.0, 0.0, 0.0, 0.0, 0.0, 0.0,...  \n",
       "1  [[0.0, 0.0, 0.0, 0.0, 0.0, 0.0, 0.0, 0.0, 0.0,...  \n",
       "2  [[0.0, 0.0, 0.0, 0.0, 0.0, 0.0, 0.0, 0.0, 0.0,...  \n",
       "3  [[0.0, 0.0, 0.0, 0.0, 0.0, 0.0, 0.0, 0.0, 0.0,...  \n",
       "4  [[0.0, 0.0, 0.0, 0.0, 0.0, 0.0, 0.0, 0.0, 0.0,...  "
      ]
     },
     "execution_count": 6,
     "metadata": {},
     "output_type": "execute_result"
    }
   ],
   "source": [
    "pfams.head()"
   ]
  },
  {
   "cell_type": "code",
   "execution_count": 7,
   "id": "cbbc9730",
   "metadata": {},
   "outputs": [],
   "source": [
    "write_fasta_file(pfams, \"test_proteins.fasta\")"
   ]
  },
  {
   "cell_type": "code",
   "execution_count": 8,
   "id": "94ca0417",
   "metadata": {},
   "outputs": [],
   "source": [
    "# create dataset from ProtT5 embeddings (h5 file) and one-hot encoded pfams\n",
    "data = ProtT5Dataset(embeddings_h5_file_path=\"test_embeddings.h5\", labels=pfams[\"pfam_onehot\"])"
   ]
  },
  {
   "cell_type": "markdown",
   "id": "16d02c17",
   "metadata": {},
   "source": [
    "# Creating Dataloaders"
   ]
  },
  {
   "cell_type": "code",
   "execution_count": 9,
   "id": "330b8212",
   "metadata": {},
   "outputs": [],
   "source": [
    "# set dataset proportions\n",
    "train_size = int(0.7 * len(data))\n",
    "val_size = int(0.1 * len(data))\n",
    "test_size = len(data) - train_size - val_size\n",
    "\n",
    "train_set, val_set, test_set = random_split(data, [train_size, val_size, test_size])\n",
    "\n",
    "train_dataloader = DataLoader(train_set, batch_size=64, shuffle=True)\n",
    "val_loader = DataLoader(val_set, batch_size=32, shuffle=False)\n",
    "test_loader = DataLoader(test_set, batch_size=32, shuffle=False)"
   ]
  },
  {
   "cell_type": "code",
   "execution_count": 10,
   "id": "367a131c",
   "metadata": {},
   "outputs": [
    {
     "data": {
      "text/plain": [
       "(tensor([], size=(0, 1985, 1024)),\n",
       " tensor([[0., 0., 0.,  ..., 0., 0., 0.],\n",
       "         [0., 0., 0.,  ..., 0., 0., 0.],\n",
       "         [0., 0., 0.,  ..., 0., 0., 0.],\n",
       "         ...,\n",
       "         [0., 0., 0.,  ..., 0., 0., 0.],\n",
       "         [0., 0., 0.,  ..., 0., 0., 0.],\n",
       "         [0., 0., 0.,  ..., 0., 0., 0.]]))"
      ]
     },
     "execution_count": 10,
     "metadata": {},
     "output_type": "execute_result"
    }
   ],
   "source": [
    "train_dataloader.dataset[1]"
   ]
  },
  {
   "cell_type": "markdown",
   "id": "5da03aeb",
   "metadata": {},
   "source": [
    "ProtT5 embedding data is empty?"
   ]
  },
  {
   "cell_type": "code",
   "execution_count": 11,
   "id": "d86d4497",
   "metadata": {},
   "outputs": [
    {
     "name": "stdout",
     "output_type": "stream",
     "text": [
      "Keys: ['A0A010Q5Q7', 'A0A017SPG0', 'A0A021VWH8', 'A0A026W2W9', 'A0A026WD97', 'A0A060SJ70', 'A0A061AHU5', 'A0A063BYH9', 'A0A066VTR8', 'A0A066XCV1', 'A0A066XUV6', 'A0A067L3Z2', 'A0A067M347', 'A0A067TGL3', 'A0A068RK35', 'A0A072PCS8', 'A0A072V2S7', 'A0A074SC29', 'A0A074VQR9', 'A0A074WYF8', 'A0A074YJQ8', 'A0A075IE34', 'A0A075KHI6', 'A0A078KV17', 'A0A081FXP6', 'A0A084A1A1', 'A0A084GDP7', 'A0A084QCJ0', 'A0A086T1D4', 'A0A086T2G6', 'A0A086T6D7', 'A0A086TAV7', 'A0A090CFW8', 'A0A090D5Y6', 'A0A090V3T8', 'A0A093GKZ5', 'A0A094A5V3', 'A0A094C8K5', 'A0A094H0P1', 'A0A094HQF1', 'A0A098G8B4', 'A0A0A1SX47', 'A0A0A1TDD6', 'A0A0A1TE21', 'A0A0A1TFK2', 'A0A0A1TIJ9', 'A0A0A1TRT9', 'A0A0A2L9J4', 'A0A0A2VDX8', 'A0A0B1PA03', 'A0A0B7N8Y7', 'A0A0B8N738', 'A0A0C1XLB1', 'A0A0C3CAN6', 'A0A0C3DEX1', 'A0A0C3HDB9', 'A0A0C3NME7', 'A0A0C3PBB4', 'A0A0C3QPN8', 'A0A0C4DNT6', 'A0A0C4DQN5', 'A0A0C4DTY0', 'A0A0C4E7R5', 'A0A0C4EA23', 'A0A0C4EAQ6', 'A0A0C4ENE2', 'A0A0C4EUX1', 'A0A0C4EWH6', 'A0A0C4F3A9', 'A0A0C4F573', 'A0A0C4F9E7', 'A0A0C5VQC2', 'A0A0C7MZD2', 'A0A0C9X4F7', 'A0A0D0B1E5', 'A0A0D0BF61', 'A0A0D0CVU0', 'A0A0D1E4T3', 'A0A0D1E8R9', 'A0A0D1ZVR2', 'A0A0D2DM08', 'A0A0D2E1E2', 'A0A0D2H121', 'A0A0D2IIW6', 'A0A0D2K333', 'A0A0D2NI85', 'A0A0D2VIK6', 'A0A0D2VJS8', 'A0A0D2W0M6', 'A0A0D2XGB6', 'A0A0D2XIR3', 'A0A0D2Y9K2', 'A0A0D7AR00', 'A0A0D7AUQ7', 'A0A0D9NKT6', 'A0A0D9ZYY7', 'A0A0F4G7C1', 'A0A0F4R5C4', 'A0A0F4YZP7', 'A0A0F4Z1E7', 'A0A0F7V1V9', 'A0A0F7ZRA1', 'A0A0F8B122', 'A0A0G4IRD2', 'A0A0G4J3B5', 'A0A0H2SFV3', 'A0A0H3D9C4', 'A0A0H3G944', 'A0A0H3GI38', 'A0A0H5C8M3', 'A0A0H5S5J7', 'A0A0J1HE02', 'A0A0J7KRD3', 'A0A0K0DWW5', 'A0A0K0F7K8', 'A0A0K0JPE7', 'A0A0K1PY73', 'A0A0K6G0W1', 'A0A0K6G9Q0', 'A0A0L0C768', 'A0A0L0HR98', 'A0A0L0NLN1', 'A0A0L0UXR9', 'A0A0L0UYW4', 'A0A0L0V2B5', 'A0A0L0V6G2', 'A0A0L0V784', 'A0A0L0VCZ6', 'A0A0L0VFH6', 'A0A0L0VG89', 'A0A0L0W548', 'A0A0L6TDM4', 'A0A0L6U6M2', 'A0A0L6U9U3', 'A0A0L6UF96', 'A0A0L6V6R9', 'A0A0L6VH81', 'A0A0L6VLM8', 'A0A0L6VTE0', 'A0A0L6X2X2', 'A0A0L8I4T8', 'A0A0M4N0P4', 'A0A0M5IXP6', 'A0A0M5J617', 'A0A0M8N8F0', 'A0A0N1INW7', 'A0A0N1P068', 'A0A0N4WXS4', 'A0A0N8H654', 'A0A0P1F9Y5', 'A0A0P6Y204', 'A0A0P7BJV9', 'A0A0Q6FGB8', 'A0A0Q6WU74', 'A0A0S2I3X9', 'A0A0S2K4I3', 'A0A0S4X8U4', 'A0A0S6XGT8', 'A0A0T5P1J6', 'A0A0U1MA98', 'A0A0U2UAM1', 'A0A0U5HI97', 'A0A0U5JCN0', 'A0A0U5JDI3', 'A0A0V0V7D3', 'A0A0W7VVB1', 'A0A125YTY5', 'A0A125YYS9', 'A0A127EU24', 'A0A132BAJ3', 'A0A132MN72', 'A0A135UBH8', 'A0A136J5X0', 'A0A136J6C1', 'A0A136JDG3', 'A0A137PBR4', 'A0A137Q278', 'A0A150V959', 'A0A151GXY8', 'A0A151J0E3', 'A0A152A6Y1', 'A0A158NSI7', 'A0A158P6R6', 'A0A158QIQ9', 'A0A162JF01', 'A0A162TLR0', 'A0A162U7Y7', 'A0A163ASP2', 'A0A164SIL1', 'A0A165HD37', 'A0A165HDC1', 'A0A165HNB6', 'A0A165LSN3', 'A0A165NZG1', 'A0A165R0K2', 'A0A165SNB8', 'A0A165Z373', 'A0A166B650', 'A0A167P6A4', 'A0A167RCI8', 'A0A168L9Q3', 'A0A168MVK3', 'A0A172YGX2', 'A0A175W731', 'A0A175WCB4', 'A0A177C2P2', 'A0A177D1Z4', 'A0A178B1L2', 'A0A179FKN6', 'A0A179FTN1', 'A0A179FZC9', 'A0A179H659', 'A0A179UUH0', 'A0A182G5Q4', 'A0A194WVC4', 'A0A194WWW4', 'A0A194WZX4', 'A0A194X0Y0', 'A0A194X2R4', 'A0A194X393', 'A0A194X4P4', 'A0A194X8D5', 'A0A194XGW6', 'A0A194XMG1', 'A0A194XQK9', 'A0A194XT60', 'A0A194XTF8', 'A0A194XTH4', 'A0A194XTU8', 'A0A194XUC4', 'A0A194XWY0', 'A0A197JL52', 'A0A197K4D0', 'A0A199VG41', 'A0A1B7UQR7', 'A0A1B8B703', 'A0A1B8D7S5', 'A0A1C3ITV0', 'A0A1C7LVK7', 'A0A1C7MX02', 'A0A1D1W2E0', 'A0A1D2MT87', 'A0A1D8PJ26', 'A0A1E1JT60', 'A0A1E1JZX7', 'A0A1E1K6Z1', 'A0A1E1K7G5', 'A0A1E1KJL6', 'A0A1E1KKX5', 'A0A1E1KL24', 'A0A1E1LGI6', 'A0A1E1LGL9', 'A0A1E1LI01', 'A0A1E1LI21', 'A0A1E1LI49', 'A0A1E1LIB4', 'A0A1E1LN19', 'A0A1E1LNG7', 'A0A1E1LSI8', 'A0A1E3HX06', 'A0A1E3P3U0', 'A0A1E4S384', 'A0A1E4SR41', 'A0A1E5RJQ1', 'A0A1E9VQ04', 'A0A1H0XLT9', 'A0A1I6YFH0', 'A0A1J7JGW9', 'A0A1L7WCI4', 'A0A1L7WDR3', 'A0A1L7WEM5', 'A0A1L7WFU1', 'A0A1L7WFU3', 'A0A1L7WH71', 'A0A1L7WIN7', 'A0A1L7WIQ0', 'A0A1L7WKJ4', 'A0A1L7WMS3', 'A0A1L7WPG2', 'A0A1L7WQ27', 'A0A1L7WSB2', 'A0A1L7WVG3', 'A0A1L7X536', 'A0A1L7X588', 'A0A1L7X8E6', 'A0A1L7XBG4', 'A0A1L7XCF1', 'A0A1L7XCH7', 'A0A1L7XDE0', 'A0A1L7XGQ5', 'A0A1L7XJM2', 'A0A1L7XK71', 'A0A1L7XLS6', 'A0A1L7XMT3', 'A0A1L7XNK9', 'A0A1Q3E3Y0', 'A0A1Q6HRA0', 'A0A1Q8S4N4', 'A0A1S2ZNK2', 'A0A1S3F907', 'A0A1S3JI56', 'A0A1S8B4L0', 'A0A1S9E035', 'A0A1U8D4Q8', 'A0A1V1SXQ4', 'A0A1V1TE63', 'A0A1V1TEB7', 'A0A1V6N9Z3', 'A0A1V9XH68', 'A0A1W2TPP6', 'A0A1X2IW84', 'A0A1X7U0S8', 'A0A1X7UM68', 'A0A1X7UMT6', 'A0A1X7UN50', 'A0A1X7UN56', 'A0A1X7UNU4', 'A0A1X7V2V5', 'A0A1X7V3G8', 'A0A1X7V465', 'A0A1X7VTV5', 'A0A1Y1I3D2', 'A0A1Y1UDW0', 'A0A1Y1UKX9', 'A0A1Y1XMU6', 'A0A1Y1YKU7', 'A0A1Y1YLM2', 'A0A1Y2HM65', 'A0A1Y2HMH1', 'A0A1Y2IBE6', 'A0A1Y2WKD8', 'A0A1Z5SHD2', 'A0A210PH55', 'A0A210QX35', 'A0A212ER64', 'A0A212FIS8', 'A0A218X7F2', 'A0A226NL61', 'A0A232F228', 'A0A238FI31', 'A0A255ZQY1', 'A0A286UCK8', 'A0A287A458', 'A0A287Y1R8', 'A0A2A9P913', 'A0A2A9PNH0', 'A0A2B4S633', 'A0A2B7YPW3', 'A0A2C5X8Z4', 'A0A2D5GUC3', 'A0A2D5H701', 'A0A2G2YYL4', 'A0A2G4SGY8', 'A0A2G4SSN6', 'A0A2G4ST01', 'A0A2G5U4D9', 'A0A2G8RM91', 'A0A2G9RWJ5', 'A0A2H0ZKV5', 'A0A2H0ZKW7', 'A0A2H3G4H5', 'A0A2H9TL25', 'A0A2H9TLX6', 'A0A2I0R5H1', 'A0A2J7R0M0', 'A0A2J8TN67', 'A0A2K1L358', 'A0A2K6PSA8', 'A0A2N3N0R3', 'A0A2P4P3F5', 'A0A2P4ZND0', 'A0A2P5I0J3', 'A0A2P5I8D1', 'A0A2P7TDS0', 'A0A2P8DBI9', 'A0A2R2MRB6', 'A0A2R6Q9Q5', 'A0A2S0Q3J8', 'A0A2S0Q983', 'A0A2S0QBE6', 'A0A2S2DW34', 'A0A2S7SWD7', 'A0A2T3A4Y7', 'A0A2T3AZA3', 'A0A2T3Z1R8', 'A0A2T4BPD7', 'A0A2U2XB68', 'A0A2U9C2I8', 'A0A2V0P0F3', 'A0A2W1C1S7', 'A0A2W1NNM3', 'A0A2W2B5E1', 'A0A316YXE8', 'A0A327YGC1', 'A0A328DY29', 'A0A329SFR4', 'A0A341BUA9', 'A0A364N9V9', 'A0A367KEM2', 'A0A369K1Z7', 'A0A369SG68', 'A0A383ULA1', 'A0A384KC89', 'A0A397SLY5', 'A0A397SS45', 'A0A3B1IGA1', 'A0A3B3ICU5', 'A0A3M2RZV2', 'A0A3M7B033', 'A0A3M7QK91', 'A0A3N4B378', 'A0A3N4HIS4', 'A0A3N4J6X9', 'A0A3N4L1E4', 'A0A3N6ZUL8', 'A0A3Q2HHR9', 'A0A3Q3GF49', 'A0A3S1CDY0', 'A0A3S5A2A9', 'A0A401GS10', 'A0A409XZQ8', 'A0A421J5Y8', 'A0A421JV61', 'A0A423W8J1', 'A0A445C1J5', 'A0A482W2W2', 'A0A482X8I6', 'A0A484FPP3', 'A0A495SJG0', 'A0A4P9XUD5', 'A0A4P9ZQ81', 'A0A4Q4WZW7', 'A0A4S4HAH4', 'A0A4S4LCM2', 'A0A4S4LXB2', 'A0A4U0VTM1', 'A0A4W3I5U3', 'A0A4W3IRC8', 'A0A4Y7LFR8', 'A0A4Y7Q724', 'A0A4Y9Y0Z3', 'A0A4Y9YK09', 'A0A507D5I1', 'A0A507QHF1', 'A0A545W4H0', 'A0A553NRZ3', 'A0A5A7V755', 'A0A5C0ZEH4', 'A0A5C0ZFT3', 'A0A5C3M4D6', 'A0A5C3N9K1', 'A0A5C3PYD7', 'A0A5C7HLA4', 'A0A5D2S3L5', 'A0A5D6XM43', 'A0A5J4NMM5', 'A0A5M3MQ03', 'A0A5M6CQH9', 'A0A5N5HPD3', 'A0A5N6ETS9', 'A0A5N6RW88', 'A0A5P8W856', 'A0A642UER2', 'A0A653CDY8', 'A0A653DUM4', 'A0A665X0C8', 'A0A667XSD5', 'A0A670IUN9', 'A0A671FHV8', 'A0A672K859', 'A0A673AQR7', 'A0A673TS21', 'A0A674J200', 'A0A6A4LDT1', 'A0A6I8ULG9', 'A0A6I9NLC6', 'A0A6I9XFU8', 'A0A6J1PAA5', 'A0A6J1PX84', 'A0A6J1S8V3', 'A0A6J2N382', 'A0A6J2X7H0', 'A0A6J2XM65', 'A0A6J3ADP7', 'A0A6J3CGK7', 'A0A6L7HJ57', 'A0A6L8P153', 'A0A6N4SPM9', 'A0A6N4SQN0', 'A0A6N4SUL0', 'A0A6N4SV02', 'A0A6N4SW98', 'A0A6P3GR99', 'A0A6P4Y9S2', 'A0A6P5A9Y7', 'A0A6P6XW66', 'A0A6P7FQI0', 'A0A6P7SH56', 'A0A6P7XCY2', 'A0A6P7YCZ1', 'A0A6P8I3N6', 'A0A6P8SBL1', 'A0A6P8XD34', 'A0A6P8Y3L7', 'A0A6P9DIZ0', 'A0A6P9DQ60', 'A0A6V7WP72', 'A0A7C8IDI3', 'A0A7J0H6R5', 'A0A7J6EKY8', 'A0A7J7KK80', 'A0A7J7QSY5', 'A0A7K1T1J9', 'A0A7K4KUE4', 'A0A7L0WFS2', 'A0A7M7GI35', 'A0A7M7H7K0', 'A0A7M7LK38', 'A0A7M7P9F1', 'A0A7M7PS21', 'A0A7M7QGC6', 'A0A7M7R6G3', 'A0A7M7RH40', 'A0A7N4P934', 'A0A7N8XIU5', 'A0A7R9QQJ2', 'A0A803M4D6', 'A0A803XVT3', 'A0A804IPY7', 'A0A811KVK4', 'A0A813M320', 'A0A814D156', 'A0A829NF94', 'A0A834NKP9', 'A0A834XYQ5', 'A0A835C036', 'A0A835L547', 'A0A835PMZ0', 'A0A851N7G2', 'A0A851NQ28', 'A0A852KXR9', 'A0A8B6BTD2', 'A0A8B8A734', 'A0A8B8DCQ6', 'A0A8B8HV73', 'A0A8B8ZUK0', 'A0A8B9VD10', 'A0A8C0L3W1', 'A0A8C4PY84', 'A0A8C4T543', 'A0A8C4UIU5', 'A0A8C4YVU1', 'A0A8C5DQZ5', 'A0A8C5MBG7', 'A0A8C5QKL7', 'A0A8C7MVT3', 'A0A8C9DCY7', 'A0A8D0DR89', 'A0A8D0HSZ4', 'A0A8D2KTW5', 'A0A8D2N6P8', 'A0A8G2FVQ7', 'A0A8H3FM70', 'A0A8H3FQ41', 'A0A8H3YN80', 'A0A8H4QMM0', 'A0A8H6TJ13', 'A0A8H6TW15', 'A0A8H7C1G0', 'A0A8H7CJ42', 'A0A8H7EV78', 'A0A8H7QXF0', 'A0A8H7U5J6', 'A0A8H7VPZ3', 'A0A8H7XTB6', 'A0A8H8TXA0', 'A0A8I3PTT4', 'A0A8I6RKK7', 'A0A8I6Y4D0', 'A0A8J0VD86', 'A0A8J2LTL6', 'A0A8J2QYG0', 'A0A8J5L5Q5', 'A0A8J5QZ74', 'A0A8J6F876', 'A0A8J6FTE1', 'A0A8K0D4Q9', 'A0A8K0KM07', 'A0A8M2BIT4', 'A0A8P4GD39', 'A0A8R1DK09', 'A0A8R1DZZ5', 'A0A8R1ECZ7', 'A0A8R2B849', 'A0A8S0UJN3', 'A0A8S1A733', 'A0A8S1CYQ9', 'A0A8S3RR13', 'A0A8S3X6W9', 'A0A8S4G2H0', 'A0A8T0ECP3', 'A0A8T0EKJ3', 'A0A8T0IUB4', 'A0A8T1W1F6', 'A0A8T2IYI1', 'A0A8U0WPK3', 'A0A8U0WPL6', 'A0A8U0WPT1', 'A0A8U1ETT3', 'A0A8W4FNG1', 'A0A8W8NNE9', 'A0A8X7MXH5', 'A0A913Z0R6', 'A0A913Z1B1', 'A0A914J5G6', 'A0A914Z3Y2', 'A0A915AUB1', 'A0A922CFE9', 'A0A979FXC7', 'A0A9D5A8Z8', 'A0A9F2QAA0', 'A0A9J6C356', 'A0A9J7HQC5', 'A0A9R1XH05', 'A0ACR9', 'A0ACX0', 'A0B617', 'A0C5U6', 'A0CA92', 'A0CLV5', 'A0D7E8', 'A0DQB3', 'A0E184', 'A0E600', 'A0JUQ7', 'A0KGT5', 'A0KH90', 'A0KHN2', 'A0KJ64', 'A0KJK7', 'A0KKW9', 'A0KL92', 'A0KLH3', 'A0KLH6', 'A0KND0', 'A0KQT1', 'A0L8V5', 'A0L8Z8', 'A0LAA2', 'A0LLM2', 'A0LM70', 'A0LSF1', 'A0M051', 'A0PY27', 'A0PY88', 'A0PZP5', 'A0Q228', 'A0Q3T7', 'A0QQ02', 'A0QUC1', 'A0QVF9', 'A0R2T7', 'A0YAF8', 'A1AK86', 'A1AL94', 'A1AYT1', 'A1AZH3', 'A1B277', 'A1B663', 'A1B8L5', 'A1BJM0', 'A1BJP6', 'A1CCW3', 'A1CDP0', 'A1CNT1', 'A1CS52', 'A1K1I1', 'A1K438', 'A1K5R7', 'A1K8X5', 'A1S3R1', 'A1S533', 'A1S5H8', 'A1S7W2', 'A1SAT8', 'A1SE31', 'A1SEF8', 'A1SFS9', 'A1SM11', 'A1SPB2', 'A1SQ65', 'A1ST26', 'A1STM1', 'A1SU73', 'A1SWX8', 'A1SZ69', 'A1VLL9', 'A1VTK5', 'A1WEU1', 'A1WFL9', 'A1WK75', 'A1WTP2', 'A1WW00', 'A1YQX2', 'A2DJ03', 'A2DNU8', 'A2DQL3', 'A2DXW7', 'A2E4R6', 'A2ECB8', 'A2EH41', 'A2ERZ3', 'A2EU51', 'A2F1A4', 'A2F4K6', 'A2FB70', 'A2FEZ0', 'A2FQW3', 'A2FSF9', 'A2G036', 'A2Q8X0', 'A2QTN3', 'A2SBV0', 'A2SJH0', 'A2SJH7', 'A2SKK5', 'A2SKN2', 'A2ST93', 'A2U0D4', 'A2U0Y1', 'A2U1V1', 'A2U1V2', 'A2U1V3', 'A2U1V5', 'A2U3H0', 'A3DCI7', 'A3DEL3', 'A3HRF7', 'A3HRJ5', 'A3HRQ0', 'A3HS07', 'A3HU05', 'A3HUI0', 'A3HX26', 'A3HYW7', 'A3HZI0', 'A3HZT9', 'A3I0R1', 'A3I0Y0', 'A3I170', 'A3I1A9', 'A3I206', 'A3I2B6', 'A3I2F1', 'A3I2W3', 'A3LX00', 'A3UAC1', 'A3UAC2', 'A3UB41', 'A3XPN2', 'A3XQG8', 'A3ZPX1', 'A3ZQR2', 'A3ZQS2', 'A3ZR79', 'A3ZS39', 'A3ZSI6', 'A3ZT25', 'A3ZT60', 'A3ZTD9', 'A3ZWI0', 'A3ZWI1', 'A3ZX11', 'A3ZY13', 'A3ZYG0', 'A3ZYX9', 'A4A0D3', 'A4A0Q4', 'A4A1V7', 'A4A202', 'A4AN55', 'A4APB3', 'A4AQD2', 'A4AQD3', 'A4AQD4', 'A4AQD5', 'A4ARZ0', 'A4AS10', 'A4ASM0', 'A4ASP0', 'A4ASP9', 'A4ATU0', 'A4ATY8', 'A4AUV7', 'A4AVD2', 'A4AVJ3', 'A4BYH9', 'A4CGG3', 'A4CHF9', 'A4CNS2', 'A4CNS3', 'A4CNS4', 'A4CNS5', 'A4CPT5', 'A4F6V5', 'A4FBX1', 'A4FDK3', 'A4FDZ7', 'A4FGQ0', 'A4FH64', 'A4FPT7', 'A4FPZ8', 'A4G2V9', 'A4G509', 'A4G8B6', 'A4G8H3', 'A4GAJ8', 'A4GAL9', 'A4H464', 'A4H879', 'A4H8G0', 'A4HUU6', 'A4ICH2', 'A4J0F7', 'A4J440', 'A4J531', 'A4J5M9', 'A4J7A1', 'A4RRT9', 'A4RT11', 'A4RU92', 'A4RXU6', 'A4S116', 'A4S344', 'A4S482', 'A4S4H7', 'A4S7T0', 'A4S8V0', 'A4SXW4', 'A4SYN3', 'A4VGG2', 'A4VKY9', 'A4VRR5', 'A4X516', 'A4X8N1', 'A4XDY8', 'A4XEQ9', 'A4XES2', 'A4YL91', 'A4YN24', 'A4YQ22', 'A4YXQ0', 'A4Z0W7', 'A4Z1E0', 'A4Z1Z8', 'A5CDZ8', 'A5CEI8', 'A5CES4', 'A5D2H5', 'A5DB15', 'A5DVP9', 'A5EW58', 'A5FX12', 'A5FXJ7', 'A5FYL4', 'A5G2C9', 'A5G5K2', 'A5G6F5', 'A5G857', 'A5G861', 'A5GAC3', 'A5GBI1', 'A5GBK5', 'A5GEF2', 'A5GEN9', 'A5GLW3', 'A5GNC6', 'A5GRC0', 'A5GT76', 'A5GU70', 'A5GV70', 'A5GWW3', 'A5HXQ5', 'A5HZT0', 'A5I034', 'A5I5R4', 'A5I6K1', 'A5IIW8', 'A5IXN4', 'A5MYV5', 'A5N138', 'A5N244', 'A5N4U4', 'A6DFB8', 'A6DG40', 'A6DGC3', 'A6DGI4', 'A6DGN3', 'A6DIW7', 'A6DJ51', 'A6DLT3', 'A6DM04', 'A6DM09', 'A6DM12', 'A6DNR0', 'A6DQD4', 'A6DSF7', 'A6DSM6', 'A6DTC7', 'A6E8U4', 'A6EFU0', 'A6EKV1', 'A6GVS6', 'A6GVU0', 'A6GWG9', 'A6GYP0', 'A6H042', 'A6H043', 'A6H044', 'A6H0B8', 'A6H1R0', 'A6KX83', 'A6L8C0', 'A6L9A1', 'A6LB52', 'A6LBG6', 'A6LCM7', 'A6LD40', 'A6LD72', 'A6LER8', 'A6LFJ8', 'A6LFX0', 'A6Q587', 'A6R229', 'A6TJ95', 'A6TMP1', 'A6TN09', 'A6TNX1', 'A6TSE6', 'A6TT46', 'A6VPM4', 'A6W7L2', 'A6WDW4', 'A6WDZ8', 'A6X4R7', 'A7E6I0', 'A7EDP7', 'A7EHT0', 'A7EQA5', 'A7ER61', 'A7F4S6', 'A7HAA2', 'A7HAR9', 'A7HBV2', 'A7HFV5', 'A7HII1', 'A7HKA5', 'A7HKR0', 'A7HLQ9', 'A7HML1', 'A7HPA6', 'A7HT41', 'A7HT95', 'A7HVJ0', 'A7HVW4', 'A7HWK3', 'A7HY45', 'A7HZ41', 'A7I7R2', 'A7I923', 'A7IBM2', 'A7IE83', 'A7IFI7', 'A7IHL3', 'A7IMS7', 'A7IPA3', 'A7NM29', 'A7RRK0', 'A7RV58', 'A7RW80', 'A7S0E0', 'A7S252', 'A7S4S2', 'A7SAI3', 'A7SIE3', 'A7SJI4', 'A7SKM8', 'A7SRV8', 'A7TGN4', 'A7UWL1', 'A8AEU9', 'A8BU80', 'A8ERL3', 'A8ES80', 'A8ET26', 'A8F6K0', 'A8F7E4', 'A8I2V4', 'A8I2Y3', 'A8IDI8', 'A8ILB8', 'A8IV40', 'A8LLA9', 'A8LNH5', 'A8MEB0', 'A8MGZ4', 'A8MHU3', 'A8ML21', 'A8N3N5', 'A8NST1', 'A8NWM4', 'A8NZ53', 'A8PWR3', 'A8Q9L1', 'A8X1P4', 'A8XPV0', 'A8Z6A0', 'A8ZRK8', 'A8ZT12', 'A8ZUD4', 'A8ZWA2', 'A9BLF0', 'A9BTX8', 'A9BUD6', 'A9BY32', 'A9BZ09', 'A9BZ94', 'A9CGR6', 'A9CHK1', 'A9CHT1', 'A9CJ49', 'A9CKP4', 'A9CKT8', 'A9FCV5', 'A9GLQ9', 'A9GTY7', 'A9HAT3', 'A9KHR4', 'A9KK86', 'A9KNT7', 'A9S3X8', 'A9U397', 'A9UW10', 'A9V256', 'A9V511', 'A9V6U4', 'A9VA23', 'A9VC67', 'A9VE01', 'A9W9S5', 'A9WFB5', 'A9WM62', 'B0C1N3', 'B0C3E8', 'B0C441', 'B0CEH1', 'B0S0J0', 'B0S2W5', 'B0T1W6', 'B0T1X3', 'B0TC96', 'B0TE36', 'B0VEV9', 'B0VGT3', 'B0VJ70', 'B0VJA0', 'B0WZW2', 'B0XDL7', 'B1KP96', 'B1N336', 'B1VAX9', 'B1VFU9', 'B1WNH4', 'B1WQF8', 'B1WSQ6', 'B1WTQ3', 'B1WUY9', 'B1X2Q5', 'B1XY05', 'B1XY62', 'B1XZ18', 'B1XZG8', 'B1Y0Y4', 'B1Y4M7', 'B1Y781', 'B1ZVI6', 'B1ZXY4', 'B1ZYD8', 'B1ZYR5', 'B2A037', 'B2A0U7', 'B2A0Y0', 'B2A7I1', 'B2A7J7', 'B2A8N3', 'B2ABW2', 'B2ADC0', 'B2ADV2', 'B2APL2', 'B2AT86', 'B2B4V6', 'B2GM26', 'B2HEH9', 'B2HFW7', 'B2HJA7', 'B2HLV8', 'B2HQW5', 'B2HQY5', 'B2IG88', 'B2IX38', 'B2J3R5', 'B2JAE0', 'B2JBL7', 'B2JDB3', 'B2JUW2', 'B2JVH3', 'B2VXV0', 'B2W8M9', 'B2WNI6', 'B3E7H2', 'B3E9W5', 'B3EAL3', 'B3EBI0', 'B3MLW0', 'B3PB13', 'B3PDP5', 'B3PGT9', 'B3PGU2', 'B3PIS3', 'B3QV25', 'B3R0C7', 'B3RSY2', 'B3S1N6', 'B3S468', 'B3S6H3', 'B3S7W1', 'B4GND6', 'B4GND8', 'B4GU54', 'B4HYM0', 'B4HZT8', 'B4JBB1', 'B4JV98', 'B4JY14', 'B4JYA2', 'B4K9H9', 'B4KEK5', 'B4KI12', 'B4KI68', 'B4LYM8', 'B4M842', 'B4N509', 'B4NAK6', 'B4NLK5', 'B4NSZ0', 'B4NSZ1', 'B4QPT8', 'B4QYN8', 'B4R930', 'B4R9P5', 'B4RBS8', 'B4RCC9', 'B4RCH5', 'B4RF59', 'B4RGC0', 'B4RGN5', 'B4RGN6', 'B4RH34', 'B4RHU8', 'B4SCL7', 'B4SNA4', 'B5E7T1', 'B5E9Q5', 'B5ED38', 'B5EEZ0', 'B5EIZ2', 'B5H0R7', 'B5M6N0', 'B5Y446', 'B5Y9V2', 'B5YL71', 'B6AF50', 'B6AI61', 'B6GW43', 'B6HPT0', 'B6HTI0', 'B6IPE9', 'B6IRF2', 'B6ITN7', 'B6IU86', 'B6JCZ6', 'B6JW72', 'B6K2J3', 'B6KJY2', 'B6QJR0', 'B7FNY3', 'B7FUE3', 'B7FZK0', 'B7G0I9', 'B7G237', 'B7G4T8', 'B7G5U8', 'B7G5Y2', 'B7G6G0', 'B7G6K7', 'B7G8Q9', 'B7GAW7', 'B7GCB6', 'B7GCI1', 'B7GEI9', 'B7GIR5', 'B7GJI7', 'B7J8P3', 'B7K051', 'B7K2H7', 'B7K3Z4', 'B7K819', 'B7KGW9', 'B7KI45', 'B7KJY9', 'B7KK19', 'B7P598', 'B7PCU5', 'B7PTN4', 'B7PUG0', 'B7Q606', 'B7Q8P0', 'B7QCH9', 'B7RUV2', 'B8BVV7', 'B8BYE9', 'B8BZA4', 'B8C4F7', 'B8C4H5', 'B8C794', 'B8CBF7', 'B8CCG6', 'B8D0I8', 'B8D1I9', 'B8D229', 'B8DW90', 'B8E353', 'B8EK43', 'B8EKF6', 'B8ELX7', 'B8EM40', 'B8EML3', 'B8F4P9', 'B8FAV5', 'B8FEN0', 'B8FFZ9', 'B8GDK9', 'B8GHQ6', 'B8GN39', 'B8GNG9', 'B8GS53', 'B8GTC3', 'B8GU65', 'B8I1D9', 'B8I3W0', 'B8I4T3', 'B8IFI3', 'B8JLJ3', 'B8LXL5', 'B8M1R7', 'B8MG35', 'B8MJ56', 'B8MLL9', 'B9DUS5', 'B9EA87', 'B9JRT7', 'B9JSH8', 'B9JSN2', 'B9JT78', 'B9JYZ4', 'B9JZT0', 'B9KH21', 'B9KIL1', 'B9M2I6', 'B9M2N6', 'B9M545', 'B9M947', 'B9MUI3', 'B9PYJ4', 'B9T9G5', 'B9TAC8', 'B9TD10', 'B9TKB7', 'C0NA24', 'C0Q8N2', 'C0Q948', 'C0QLN9', 'C0QRZ0', 'C0Z7P5', 'C0ZBY6', 'C0ZGT0', 'C1AA20', 'C1ADQ2', 'C1CYY9', 'C1D1N2', 'C1D7K4', 'C1DB59', 'C1DBC6', 'C1DBP1', 'C1DBU9', 'C1DYF8', 'C1DZC3', 'C1E1G1', 'C1E1N8', 'C1E2K1', 'C1E3M5', 'C1E476', 'C1E489', 'C1E6X0', 'C1EE20', 'C1EE65', 'C1F7U7', 'C1H3L9', 'C1H8Y9', 'C1MHS4', 'C1MLG0', 'C1MN57', 'C1MRA0', 'C1MWQ1', 'C1MXG7', 'C1N0L9', 'C1N3L8', 'C1N483', 'C1N816', 'C1NAL7', 'C4JL05', 'C4JX77', 'C4K030', 'C4L8H2', 'C4LD87', 'C4LDE3', 'C4LWV3', 'C4QZL6', 'C4R6N9', 'C4R7A1', 'C4V9T4', 'C4VAA2', 'C4Y7P2', 'C4Y8Y4', 'C4YC28', 'C4Z1R0', 'C4ZIS8', 'C4ZKZ6', 'C4ZLE6', 'C4ZNL8', 'C5BL86', 'C5BRA2', 'C5BSK2', 'C5BU77', 'C5C931', 'C5CDC7', 'C5CDF7', 'C5CGU2', 'C5CHD2', 'C5DMI7', 'C5E3B2', 'C5FUN2', 'C5FYC5', 'C5M7S8', 'C5WT26', 'C6BZ26', 'C6BZW6', 'C6H4P5', 'C6PUK2', 'C6VSG0', 'C6VTA9', 'C6VV56', 'C6VVU8', 'C6W2X2', 'C6W3Q2', 'C6W474', 'C6WIB9', 'C6WPJ0', 'C6WQU7', 'C6WV59', 'C6WZ06', 'C6WZ51', 'C6XA03', 'C6XAG9', 'C6XAK6', 'C6XB43', 'C6XBN8', 'C6XCL8', 'C6XEF2', 'C6XJC2', 'C6XKD6', 'C6XMR2', 'C6XMX5', 'C6XPI5', 'C6XQU6', 'C6XRF5', 'C6XRI1', 'C6XRU1', 'C6XTP8', 'C6XZT6', 'C6Y0U2', 'C7LNS1', 'C7LS98', 'C7LWF9', 'C7M328', 'C7M3V9', 'C7M6R1', 'C7MT22', 'C7MUN7', 'C7MWW9', 'C7MYE1', 'C7N4B8', 'C7Q5C9', 'C7QK77', 'C7R2A7', 'C7YX89', 'C7Z0B4', 'C7Z0W5', 'C7Z2H1', 'C7ZCL4', 'C7ZPR1', 'C7ZQ50', 'C8V1N7', 'C8V415', 'C8V480', 'C8VU05', 'C8VZU0', 'C8W7G6', 'C8WIK5', 'C8WRT7', 'C8X023', 'C8X2G4', 'C8X6H0', 'C8XBP9', 'C9A9S5', 'C9ACJ4', 'C9R7K8', 'C9SU45', 'C9SUG7', 'C9Z675', 'C9ZA06', 'D0KW42', 'D0KZG5', 'D0L489', 'D0L5A2', 'D0LDS3', 'D0LIL8', 'D0LL94', 'D0LMN1', 'D0LNP3', 'D0LP61', 'D0LPV1', 'D0LPZ5', 'D0LTB3', 'D0LTY3', 'D0LWM4', 'D0MR58', 'D0N6V0', 'D0N998', 'D0NG15', 'D0NPP5', 'D0NPQ5', 'D0NPQ6', 'D1A5J8', 'D1ABA0', 'D1AC48', 'D1AD88', 'D1AED0', 'D1AK99', 'D1AQS6', 'D1ARE6', 'D1B499', 'D1B6S9', 'D1B8F4', 'D1BUB3', 'D1BYU1', 'D1BZH4', 'D1CCD8', 'D2A373', 'D2ARS3', 'D2AT46', 'D2BCB1', 'D2NPB4', 'D2PR71', 'D2PTP3', 'D2PY78', 'D2QXD0', 'D2R4T7', 'D2R712', 'D2RDH3', 'D2RIS4', 'D2RJ71', 'D2RM07', 'D2RMC5', 'D2RP20', 'D2S6T9', 'D2S8G6', 'D2UE67', 'D2UFK3', 'D2V2M0', 'D2V465', 'D2V4D7', 'D2V680', 'D2VBE8', 'D2VDI9', 'D2VF66', 'D2VG00', 'D2VHR7', 'D2VIW7', 'D2VJD1', 'D2VNH1', 'D2VPG3', 'D2VSQ7', 'D3B6X4', 'D3BBV1', 'D3BCY8', 'D3BCZ8', 'D3BQ31', 'D3DHX0', 'D3E075', 'D3E0E6', 'D3E1R8', 'D3E1V0', 'D3E3S0', 'D3EPK9', 'D3FS28', 'D3FVU9', 'D3FY06', 'D3G0A4', 'D3G0S0', 'D3Q0T5', 'D3R1L1', 'D3S2M0', 'D3SP20', 'D3VKH2', 'D3VKW5', 'D3VLB7', 'D3ZFU9', 'D4ACB4', 'D4B0V5', 'D4B1D5', 'D4E498', 'D4GDU4', 'D4GMJ1', 'D4H4J6', 'D4H5Y6', 'D4K144', 'D4K3E5', 'D4YPY7', 'D4Z1R0', 'D4Z650', 'D4ZE18', 'D4ZIH1', 'D4ZM07', 'D5APB7', 'D5ATH7', 'D5BMD5', 'D5BND2', 'D5BSF0', 'D5BUN9', 'D5BXE4', 'D5C4P6', 'D5CMP6', 'D5CN49', 'D5CQB2', 'D5CR22', 'D5CSX8', 'D5E8I4', 'D5EAI7', 'D5EH94', 'D5EK35', 'D5EP79', 'D5ERW3', 'D5G625', 'D5G627', 'D5SQA6', 'D5SUM2', 'D5UKU9', 'D5UM64', 'D5UPK6', 'D5UT09', 'D5UVS6', 'D5UXB1', 'D5UZP4', 'D5V3S0', 'D5V4F3', 'D5V6F1', 'D5X7V3', 'D5XC72', 'D5XD79', 'D6GPX5', 'D6GT30', 'D6WJK6', 'D6WLJ6', 'D6WXI4', 'D6WZ76', 'D6X1U2', 'D6X6C9', 'D6X6K6', 'D6Y3R8', 'D6Y5J2', 'D6Y9Z6', 'D6Z117', 'D7AUJ2', 'D7AW63', 'D7B0M3', 'D7BDB9', 'D7BHR9', 'D7BIQ9', 'D7C9E1', 'D7CMG3', 'D7CVK7', 'D7CW31', 'D7CWZ3', 'D7DHU6', 'D7DK71', 'D7DMC5', 'D7DN59', 'D7DPW6', 'D7E4T7', 'D7E6B9', 'D7E7B6', 'D7E7G6', 'D7FLZ5', 'D7FN58', 'D7FNT7', 'D7G883', 'D7T4J6', 'D7U9N9', 'D8IQI3', 'D8ITH2', 'D8IUH4', 'D8IVN8', 'D8IWK7', 'D8IY76', 'D8J280', 'D8J290', 'D8LI73', 'D8LRD5', 'D8P8Y8', 'D8P9S8', 'D8PID5', 'D8PNB2', 'D8PZN1', 'D8Q1C3', 'D8QLS0', 'D8R0I9', 'D8R5I1', 'D8S0A6', 'D8TRM7', 'D8U698', 'D8U885', 'D9QHB1', 'D9QK31', 'D9QKF7', 'D9QKN1', 'D9QKN2', 'D9QKX5', 'D9QQ13', 'D9QQR4', 'D9QSD8', 'D9RXS2', 'D9RZT8', 'D9S0R8', 'D9SFK4', 'D9SGQ5', 'D9SHM5', 'D9SI87', 'D9SJX5', 'D9SML5', 'D9SN01', 'D9SPL2', 'D9SX21', 'E0RZ39', 'E0SEY2', 'E0SFD9', 'E0SFL9', 'E0SJY9', 'E0SL95', 'E0SND3', 'E0TBW2', 'E0TEG1', 'E0TEX1', 'E0THL4', 'E0UDD5', 'E0UGR2', 'E0UIA8', 'E0ULH0', 'E0UQZ1', 'E0USZ4', 'E0VHF2', 'E0VKY9', 'E0VM86', 'E1QD89', 'E1QG06', 'E1QL76', 'E1QVI7', 'E1QWI5', 'E1QWM2', 'E1RBD5', 'E1RDR9', 'E1RK14', 'E1SL92', 'E1SP58', 'E1SPN4', 'E1VFV7', 'E1VHH3', 'E1VK01', 'E1VKB7', 'E1VQF9', 'E1VR31', 'E1WX64', 'E1X4K3', 'E1X658', 'E1Z2E5', 'E1Z424', 'E1Z7L0', 'E1ZAG5', 'E1ZAL3', 'E1ZFZ2', 'E1ZH59', 'E2BHU3', 'E2BW62', 'E2SAY2', 'E3CZD9', 'E3DLU3', 'E3DPC5', 'E3E9F8', 'E3E9L0', 'E3EJB4', 'E3GVX9', 'E3GWV3', 'E3GXG6', 'E3H7P7', 'E3HAQ8', 'E3HB37', 'E3HBV5', 'E3HC78', 'E3HDH2', 'E3ITV7', 'E3IZE9', 'E3IZM4', 'E3J7I7', 'E3JT92', 'E3JWG7', 'E3JXA4', 'E3JY72', 'E3K4Y8', 'E3KEV3', 'E3L0U3', 'E3L623', 'E3PTB4', 'E3PTB8', 'E3PTS4', 'E3Q6Y7', 'E3QL23', 'E3QWP8', 'E4N7P4', 'E4NJT7', 'E4RM66', 'E4RNF5', 'E4RPE7', 'E4RQV5', 'E4RRQ5', 'E4RV52', 'E4RVL0', 'E4T0P7', 'E4T161', 'E4T398', 'E4T3B9', 'E4T3K0', 'E4TIM6', 'E4TIM8', 'E4TPE3', 'E4TQX3', 'E4TRJ8', 'E4TST2', 'E4TU40', 'E4U561', 'E4U7B2', 'E4UN73', 'E4ZG00', 'E5AES4', 'E5CEW6', 'E5SH25', 'E6S6X3', 'E6S912', 'E6SHL4', 'E6SQZ6', 'E6TU38', 'E6TUE1', 'E6U118', 'E6U514', 'E6U7C7', 'E6WP39', 'E6WT77', 'E6X0I8', 'E6X0Z7', 'E6X1E5', 'E6X384', 'E7FGK9', 'E7FUN8', 'E8R2K1', 'E8R4Z5', 'E8UAB2', 'E8WXE2', 'E8WZ34', 'E8X373', 'E9ACF1', 'E9CY90', 'E9CYC1', 'E9DTP3', 'E9E301', 'E9EIH5', 'E9G930', 'E9GLV0', 'E9GQY9', 'E9H1W5', 'E9HGH6', 'E9HRP3', 'E9PPC9', 'E9SYS6', 'E9T689', 'F0NXZ0', 'F0NYZ8', 'F0NZS8', 'F0RFJ6', 'F0RI51', 'F0RI52', 'F0RI53', 'F0RI54', 'F0RMS9', 'F0RRV3', 'F0RT62', 'F0S0N2', 'F0S5H3', 'F0S9D1', 'F0SB98', 'F0SD76', 'F0SDD7', 'F0SDG6', 'F0SE02', 'F0SGQ1', 'F0SRJ3', 'F0XBM6', 'F0XCL2', 'F0XEE8', 'F0XH56', 'F0XJ23', 'F0Z6F6', 'F0ZSW1', 'F1QI68', 'F1QW85', 'F2F3F4', 'F2F7X5', 'F2I8H1', 'F2IA43', 'F2IFE2', 'F2IH98', 'F2IHZ3', 'F2IVD0', 'F2J3Y9', 'F2JQ99', 'F2JRX9', 'F2JTB0', 'F2JY43', 'F2JY54', 'F2JZP9', 'F2K2V9', 'F2KNZ3', 'F2KQ15', 'F2LUX7', 'F2LWR1', 'F2NDE3', 'F2NDM0', 'F2NEU9', 'F2NF90', 'F2NL87', 'F2NQD7', 'F2R7J2', 'F2RDL1', 'F2SWW3', 'F2U1X1', 'F2U7E5', 'F2UD03', 'F2UFG7', 'F2UKK0', 'F2ULM6', 'F2USD5', 'F2Z6C0', 'F2Z6F8', 'F3GA12', 'F3Y8D2', 'F3YCY6', 'F3YVI2', 'F3Z3U3', 'F3ZVZ8', 'F3ZWD4', 'F3ZYC0', 'F4BY02', 'F4BYG9', 'F4CX71', 'F4IA59', 'F4KAV1', 'F4KMJ2', 'F4KRQ9', 'F4KZN6', 'F4L102', 'F4L2A7', 'F4L4I1', 'F4L4U7', 'F4L535', 'F4LW93', 'F4LWL8', 'F4NVJ1', 'F4P304', 'F4P5P6', 'F4P894', 'F4PA44', 'F4PJA6', 'F4Q9J7', 'F4QEF1', 'F4R592', 'F4RMW6', 'F4RNI7', 'F4RPR4', 'F4S6S5', 'F4SCV2', 'F4SCV6', 'F4WJ59', 'F4WNN1', 'F5XSZ1', 'F5XYY8', 'F5XZ13', 'F5Y071', 'F5Y1N5', 'F5Y1T7', 'F5Y2Y3', 'F5Y4Y9', 'F5Y7Z3', 'F5Z2H0', 'F5Z2H5', 'F6AA71', 'F6AAG9', 'F6AFH5', 'F6B3I2', 'F6B5M5', 'F6DQV4', 'F6DRB4', 'F6EF03', 'F6EGS7', 'F6EHA6', 'F6ENX5', 'F6EPA8', 'F6FRJ0', 'F6GCB7', 'F6GEZ8', 'F6GEZ9', 'F6GJI6', 'F6ILM1', 'F6PR65', 'F6RU13', 'F6S1Q4', 'F6TNW3', 'F6UHA9', 'F6VD16', 'F6WE59', 'F6WL19', 'F6WQ28', 'F6WRN9', 'F6Z5W5', 'F7A2P1', 'F7A4A9', 'F7CC74', 'F7EUI9', 'F7ICV2', 'F7NDT1', 'F7V2Q8', 'F7V379', 'F7VQB1', 'F7WBF6', 'F7XNR1', 'F7XPD0', 'F7XPM7', 'F7XWD6', 'F7YTY8', 'F7YX27', 'F8A897', 'F8AC53', 'F8ACS0', 'F8C5I2', 'F8E274', 'F8E889', 'F8E8K0', 'F8E8V3', 'F8E8V5', 'F8E9W9', 'F8E9X1', 'F8F254', 'F8J8T1', 'F8JD07', 'F8L1D9', 'F8QCG6', 'F9D2F5', 'F9URP0', 'F9WWB4', 'F9X285', 'F9X732', 'F9XFM6', 'F9XGH9', 'F9YPZ3', 'F9YQQ0', 'F9YTL2', 'F9Z954', 'F9ZW55', 'G0A1Q9', 'G0A2Y9', 'G0A4A0', 'G0A6W1', 'G0A9N9', 'G0ACP3', 'G0AFU1', 'G0AFZ6', 'G0AGK4', 'G0AH57', 'G0AH91', 'G0AJ95', 'G0J014', 'G0J0D9', 'G0L075', 'G0L087', 'G0L088', 'G0L258', 'G0L440', 'G0L8V4', 'G0LBV5', 'G0QMN5', 'G0QZY5', 'G0R225', 'G0R3S3', 'G0R8H7', 'G0RRD4', 'G0RVV7', 'G0RX63', 'G0RZ09', 'G0S2F7', 'G0S468', 'G0SBN0', 'G0SD07', 'G0V6U3', 'G0V7I6', 'G0VPH8', 'G0VPV3', 'G0VS66', 'G1K9B0', 'G1KJR4', 'G1LDF7', 'G1P7S3', 'G1PJI6', 'G1PTB5', 'G1TBR9', 'G1U9Q7', 'G1XAS0', 'G1XF34', 'G1XKH5', 'G1XV75', 'G2FBF3', 'G2IPF0', 'G2IUK1', 'G2J4Z8', 'G2KMI7', 'G2KVM2', 'G2PKF1', 'G2PQ20', 'G2PQ38', 'G2PQZ3', 'G2PR27', 'G2PR50', 'G2PR51', 'G2PR52', 'G2PR53', 'G2PSE0', 'G2Q5J3', 'G2Q6I9', 'G2QCA6', 'G2QDF0', 'G2SM63', 'G2TLZ8', 'G2XQI8', 'G2XU04', 'G2XYV1', 'G2Y066', 'G2Y507', 'G2YD93', 'G2YD98', 'G2YDB0', 'G2YIU0', 'G2YM46', 'G2YPS6', 'G2YU21', 'G2Z0B8', 'G2Z1S8', 'G2Z1S9', 'G2Z612', 'G2Z617', 'G3B132', 'G3B277', 'G3GSP4', 'G3IF49', 'G3J961', 'G3NHE7', 'G3T8W3', 'G3TKN5', 'G3TWY7', 'G3UC08', 'G3V810', 'G3VKZ6', 'G3WNC9', 'G4LWW0', 'G4N4D1', 'G4N6J9', 'G4NAT3', 'G4NHU5', 'G4Q3H3', 'G4Q5T2', 'G4Q6H3', 'G4Q7I0', 'G4QLD6', 'G4R6B3', 'G4R8W0', 'G4RD40', 'G4SVN9', 'G4SXM5', 'G4SZD0', 'G4T1S7', 'G4T1W8', 'G4T2E5', 'G4T3X6', 'G4TFL1', 'G4TPS7', 'G4VTC9', 'G5AV90', 'G5B3B5', 'G5BVP8', 'G5CBL3', 'G5EI44', 'G7E4X3', 'G7UVL0', 'G7UVS6', 'G7V6K9', 'G7V840', 'G7WLA7', 'G7WPZ5', 'G8B710', 'G8BHA5', 'G8C1K9', 'G8LYV7', 'G8M0B2', 'G8M140', 'G8NSC9', 'G8NU20', 'G8P1L2', 'G8P1R0', 'G8QXK6', 'G8R1S1', 'G8R340', 'G8R383', 'G8R5F7', 'G8R732', 'G8R837', 'G8R919', 'G8S7X7', 'G8SG27', 'G8TXP3', 'G8UM49', 'G8UM65', 'G8WSW1', 'G8X4I3', 'G8X4I4', 'G8X4I5', 'G8X6R4', 'G8XAS3', 'G8XAU5', 'G8XH57', 'G8XYZ2', 'G8ZQ50', 'G8ZS51', 'G9MEN8', 'G9MR36', 'G9N3H3', 'G9NYG5', 'H0PXM1', 'H0Q163', 'H0Q2W3', 'H0V335', 'H0V3V2', 'H0VH92', 'H0VNG4', 'H0W9P5', 'H0XBG4', 'H0XZI5', 'H0Z870', 'H1XP59', 'H1XQC7', 'H1XRP2', 'H1XRP4', 'H1XS77', 'H1XXL0', 'H1Y6Y0', 'H1YAT7', 'H1YDD2', 'H1YWT1', 'H1YYF2', 'H1Z2A6', 'H2AQB0', 'H2ARJ3', 'H2AZH4', 'H2B041', 'H2FV58', 'H2FVD7', 'H2FW73', 'H2FXA3', 'H2J7Y7', 'H2MK95', 'H2MNP1', 'H2UDY6', 'H2VFJ2', 'H2XNK9', 'H2YAS3', 'H2YIA6', 'H2ZAV9', 'H2ZB59', 'H2ZEP1', 'H2ZF11', 'H2ZQW6', 'H3A155', 'H3ALE7', 'H3BGG1', 'H3CE84', 'H3CUS8', 'H3CV93', 'H3D707', 'H3DJC5', 'H3H1G0', 'H5WHC6', 'H5WKZ5', 'H5WM04', 'H5WNQ2', 'H5WNV1', 'H5WRA6', 'H5WRT2', 'H5XBE6', 'H6BX69', 'H6C2Q6', 'H6C9R5', 'H6L396', 'H6L7N6', 'H6LFP6', 'H6LG36', 'H6LH25', 'H6N0J3', 'H6N118', 'H6N2J2', 'H6NKA6', 'H6NLS8', 'H6QRB0', 'H6RQT9', 'H6RSG4', 'H6RSH6', 'H7C6H8', 'H8GG80', 'H8GIB2', 'H8GKS9', 'H8GLW1', 'H8GMC0', 'H8GNH5', 'H8K5G2', 'H8KLS1', 'H8KNY5', 'H8KWQ2', 'H8KY30', 'H8KY93', 'H8L6H6', 'H8MG22', 'H8MVZ5', 'H8N1D2', 'H8XNL5', 'H8XQ43', 'H8XS80', 'H8XTS7', 'H8XUF2', 'H8XUF3', 'H8XUF4', 'H8XUF5', 'H9G6M0', 'H9GB60', 'H9GNH2', 'H9L4B1', 'I0AGD3', 'I0ALG8', 'I0AMD7', 'I0ANX6', 'I0HM85', 'I0HNN6', 'I0HNS0', 'I0HP23', 'I0HPY4', 'I0HRH4', 'I0HRL5', 'I0HXC6', 'I0HYA8', 'I0JJ50', 'I0JSJ7', 'I0K1N7', 'I0K1N8', 'I0YJH0', 'I1BWN7', 'I1C6H6', 'I1C6J4', 'I1C8P7', 'I1CNU9', 'I1HI92', 'I1K9V8', 'I1KRR4', 'I1LEG4', 'I1RGI2', 'I1RJZ7', 'I1RKB2', 'I1RQV4', 'I1RWC1', 'I1S3L3', 'I1S8J7', 'I1SBB4', 'I1YJP7', 'I1YKK2', 'I2B8A3', 'I2F2S8', 'I2F2T2', 'I2F364', 'I2F3P7', 'I2F4K9', 'I2F4L5', 'I2F7N8', 'I2F7P6', 'I2H3I5', 'I2H4X9', 'I3EIC0', 'I3J3G0', 'I3JEU9', 'I3JN34', 'I3M3R5', 'I3TGR8', 'I3TH25', 'I3THH3', 'I3TQ06', 'I3TU77', 'I3TXI1', 'I3YFM9', 'I3Z337', 'I3Z3Z8', 'I3Z574', 'I3Z5M5', 'I3Z6R0', 'I3ZBE2', 'I3ZLF6', 'I3ZME5', 'I4A0G5', 'I4AHS2', 'I4AJ52', 'I4AMQ8', 'I4BBC8', 'I4BTV0', 'I4BTX5', 'I4BX62', 'I4BYC8', 'I4C8I1', 'I4EX79', 'I4Y794', 'I5AV73', 'I5B0Z6', 'I5B734', 'I6NDL4', 'I6ZV88', 'I7A2A3', 'I7M2E3', 'I7M7R4', 'I7MLD8', 'I8TD49', 'J3HZ34', 'J3NPJ5', 'J3NV24', 'J3P8M0', 'J3PDF1', 'J4GNC9', 'J4KND7', 'J4WC28', 'J5PVH2', 'J7KXQ2', 'J7LDI5', 'J7RAM1', 'J7U2R6', 'J8ZPW9', 'J9DRX0', 'J9QY69', 'J9R0X8', 'J9YZE1', 'K0AZ23', 'K0C2I2', 'K0C709', 'K0C763', 'K0CE22', 'K0CE99', 'K0CFK5', 'K0CG69', 'K0CLD3', 'K0ENM8', 'K0EZZ7', 'K0F102', 'K0F1Y3', 'K0F7U8', 'K0J227', 'K0KFL8', 'K0KKQ0', 'K0KXX3', 'K0NC60', 'K0NCJ1', 'K0NIC0', 'K1PPQ1', 'K1QF01', 'K1R4D4', 'K1VVL1', 'K1W6I0', 'K1W6T6', 'K1WDV0', 'K1WIS4', 'K1WMF6', 'K1WQT7', 'K1WTS7', 'K1WZ63', 'K1X002', 'K1X1A4', 'K1X403', 'K1X605', 'K1X6U9', 'K1X8Y5', 'K1XFK0', 'K1XFV7', 'K1XXN6', 'K2RBV5', 'K2RCP5', 'K2RJN3', 'K2RXL7', 'K3ZJM9', 'K4KFY0', 'K4KJV2', 'K4KKV3', 'K4KN10', 'K4KNB9', 'K4KQR9', 'K4L238', 'K4L2D3', 'K4LD28', 'K4PU21', 'K5WK95', 'K5WNC7', 'K5X6M6', 'K5ZG47', 'K6ZN63', 'K6ZRR1', 'K7A4C1', 'K7WXD0', 'K7X2Z4', 'K8E1E9', 'K8EFK6', 'K8GHA4', 'K8GKF5', 'K9GUN1', 'K9PE49', 'K9PEQ9', 'K9PHN1', 'K9PJR3', 'K9PL68', 'K9PNI3', 'K9Q6T6', 'K9QB60', 'K9R786', 'K9R7E7', 'K9R9P2', 'K9REM0', 'K9RLI0', 'K9RQQ0', 'K9RT37', 'K9RT50', 'K9RT82', 'K9RVH9', 'K9S635', 'K9S8Z1', 'K9SGL3', 'K9SLK1', 'K9SMU3', 'K9SRE6', 'K9SW53', 'K9SX97', 'K9T1C8', 'K9T1M3', 'K9T2K3', 'K9T2X2', 'K9T3T9', 'K9T654', 'K9TBU4', 'K9TG06', 'K9TSB2', 'K9TWW9', 'K9TXU1', 'K9TZZ2', 'K9U116', 'K9U1W2', 'K9U2J8', 'K9U3H0', 'K9UC44', 'K9UGH3', 'K9UJT0', 'K9UM25', 'K9UMQ0', 'K9UNK8', 'K9UP62', 'K9V0V8', 'K9V4R3', 'K9V6X0', 'K9W1T2', 'K9W497', 'K9WAE4', 'K9WE37', 'K9WGQ0', 'K9WJB8', 'K9WT17', 'K9WYU3', 'K9X843', 'K9XJN8', 'K9XMD9', 'K9XML1', 'K9XQF8', 'K9XYV9', 'K9XYZ4', 'K9Y727', 'K9YFF7', 'K9YH45', 'K9YJH2', 'K9YL73', 'K9Z0T4', 'K9Z3G6', 'K9Z6J0', 'K9ZXD4', 'K9ZZW7', 'L0DCN6', 'L0FR11', 'L0FWC2', 'L0FWD3', 'L0FX53', 'L0G160', 'L0GW50', 'L0GYS8', 'L0HGW6', 'L0K530', 'L0K9Z5', 'L0KA88', 'L0KAG6', 'L0KAV3', 'L0KX45', 'L0KX91', 'L0NJQ0', 'L0PCG4', 'L0PDF8', 'L1JP29', 'L1MG24', 'L2G668', 'L2GE24', 'L2GLB6', 'L2GW73', 'L2GXD4', 'L5KZF8', 'L5L3U3', 'L7N688', 'L8G3E4', 'L8G4A0', 'L8WWJ8', 'L8Y8F6', 'L8YC78', 'L9KKH0', 'M1AD29', 'M1F6Q8', 'M1FAG2', 'M1LPP5', 'M1MBR7', 'M1MJN1', 'M1MJU2', 'M1MU12', 'M1NJU2', 'M1PM39', 'M1RK14', 'M1VVI0', 'M1W0J1', 'M1W4Y9', 'M1W4Z2', 'M1WKK7', 'M1WP85', 'M1WV36', 'M1ZIQ5', 'M2M7U7', 'M2MIP1', 'M2MJ33', 'M2RQX7', 'M2UDC9', 'M2WK70', 'M3A585', 'M3AMX2', 'M3CBV0', 'M3DA64', 'M3DBQ0', 'M3INH9', 'M3XHK6', 'M3YI62', 'M4BHJ4', 'M4BQB2', 'M4C7U0', 'M4CAJ2', 'M4F1S3', 'M4S152', 'M4S398', 'M4UKJ8', 'M5BQN1', 'M5DND4', 'M5DSM5', 'M5DUT1', 'M5DVB3', 'M5E2Y3', 'M5EK74', 'M7P2W7', 'M7SCD1', 'M7SGY6', 'M7SS80', 'M7SXY0', 'M7TDD3', 'M7TJW3', 'M9MAM4', 'M9MCK9', 'N0AYT7', 'N0AZS7', 'N0B4G6', 'N0BEP7', 'N0BJJ2', 'N1J501', 'N1J600', 'N1JNM9', 'N1PMU2', 'N1PZX6', 'N1QE38', 'N4UU13', 'N4V229', 'N4V437', 'N4VEP3', 'N4VWV5', 'O00154', 'O04130', 'O04162', 'O05575', 'O06178', 'O07408', 'O17612', 'O17761', 'O22391', 'O22813', 'O23478', 'O23763', 'O24018', 'O24417', 'O24838', 'O25158', 'O26306', 'O26989', 'O27326', 'O27591', 'O27758', 'O27863', 'O28011', 'O29062', 'O29077', 'O29090', 'O29125', 'O29143', 'O29237', 'O29336', 'O29815', 'O29855', 'O29956', 'O30218', 'O41158', 'O44608', 'O45279', 'O46036', 'O48631', 'O49561', 'O53872', 'O54133', 'O60568', 'O65158', 'O65485', 'O67106', 'O67621', 'O67741', 'O69856', 'O71188', 'O80850', 'O80851', 'O81606', 'O82017', 'O82126', 'O82127', 'O83191', 'O83692', 'O84249', 'O88051', 'O91632', 'O91901', 'P0A8Y8', 'P0A8Z3', 'P14060', 'P34419', 'P37666', 'P40054', 'P40939', 'P46952', 'P48348', 'P49914', 'P53199', 'P73038', 'P73990', 'P74025', 'P74376', 'P74586', 'P75392', 'P77399', 'P93828', 'P94842', 'Q018W7', 'Q01CU0', 'Q01NY0', 'Q01PI7', 'Q01PY8', 'Q01QD3', 'Q01RN4', 'Q01TF2', 'Q01U12', 'Q01UN1', 'Q01WT7', 'Q01XX3', 'Q020M5', 'Q021Q3', 'Q021Z2', 'Q022Y3', 'Q024G0', 'Q024T5', 'Q024Y0', 'Q026J2', 'Q026J8', 'Q026X4', 'Q027F9', 'Q02809', 'Q02AV5', 'Q02B64', 'Q057V5', 'Q057X2', 'Q07YN7', 'Q07Z83', 'Q08426', 'Q08FZ2', 'Q08RB4', 'Q09973', 'Q09C00', 'Q0A5D8', 'Q0A9D0', 'Q0AKB0', 'Q0AKU5', 'Q0ALA1', 'Q0ANN4', 'Q0APY6', 'Q0AWA4', 'Q0AXT1', 'Q0AY71', 'Q0AZ28', 'Q0AZ71', 'Q0BQA8', 'Q0BQD6', 'Q0BQS2', 'Q0BSK6', 'Q0BU42', 'Q0C9V5', 'Q0CCI5', 'Q0CDX4', 'Q0CFF3', 'Q0CIL7', 'Q0CIW1', 'Q0K5I3', 'Q0K6B4', 'Q0K946', 'Q0KAL6', 'Q0KBD3', 'Q0KE80', 'Q0KF52', 'Q0U815', 'Q0UNJ6', 'Q0UXA4', 'Q0UYQ1', 'Q0V1Z9', 'Q0V7I8', 'Q0VLV8', 'Q0VNM2', 'Q0VPW6', 'Q0VQI9', 'Q0VQS5', 'Q0VRI6', 'Q0VRP2', 'Q0W030', 'Q0W153', 'Q0W5D8', 'Q0W6B9', 'Q11120', 'Q122H1', 'Q127X6', 'Q12888', 'Q12A84', 'Q12DJ3', 'Q12FY8', 'Q12KA8', 'Q12KS7', 'Q12MK3', 'Q15746', 'Q160C4', 'Q163H6', 'Q164X8', 'Q166L2', 'Q16836', 'Q169V7', 'Q175A4', 'Q17985', 'Q180Q3', 'Q18187', 'Q182U1', 'Q189Q8', 'Q18AQ7', 'Q18C96', 'Q18HM9', 'Q1ARY7', 'Q1AST8', 'Q1ATL2', 'Q1AXK1', 'Q1GD00', 'Q1GFD1', 'Q1GR96', 'Q1GTK2', 'Q1GXZ5', 'Q1GZL3', 'Q1H0Z0', 'Q1H1R1', 'Q1HPR5', 'Q1IID5', 'Q1IIF0', 'Q1IP75', 'Q1IS36', 'Q1IUZ4', 'Q1IX35', 'Q1IX53', 'Q1IZQ0', 'Q1LC27', 'Q1LDB6', 'Q1LGC3', 'Q1LGS6', 'Q1LHC0', 'Q1LKA2', 'Q1LMW7', 'Q1LT92', 'Q1QIA2', 'Q1QPP6', 'Q21EC4', 'Q21FK1', 'Q21G79', 'Q21H56', 'Q21IS5', 'Q21IW3', 'Q21K54', 'Q21RF3', 'Q21SM6', 'Q21TS3', 'Q21VN3', 'Q21VT6', 'Q21W05', 'Q21WA8', 'Q21ZH0', 'Q220R9', 'Q22AJ2', 'Q23D36', 'Q24QB3', 'Q24QY5', 'Q24U91', 'Q24YV4', 'Q250C4', 'Q28K19', 'Q28LK3', 'Q28T69', 'Q28U64', 'Q28U92', 'Q28UQ2', 'Q28UU9', 'Q2FMT9', 'Q2FNS4', 'Q2FP73', 'Q2FP98', 'Q2FS88', 'Q2FU53', 'Q2FV88', 'Q2FVA3', 'Q2FVR7', 'Q2FX15', 'Q2FY54', 'Q2FYS8', 'Q2FZV4', 'Q2FZW9', 'Q2G1C9', 'Q2G1I1', 'Q2G1U2', 'Q2G281', 'Q2G2A4', 'Q2G5T2', 'Q2G5Z0', 'Q2G8N7', 'Q2GA07', 'Q2GAA2', 'Q2GG97', 'Q2GGK8', 'Q2GMJ0', 'Q2GZS2', 'Q2HGH0', 'Q2IDY9', 'Q2IHB0', 'Q2JC74', 'Q2JFL6', 'Q2JIY8', 'Q2JP29', 'Q2KVA5', 'Q2KW78', 'Q2KYE6', 'Q2L1Q3', 'Q2L2D0', 'Q2LQU0', 'Q2LXC0', 'Q2LZG4', 'Q2N871', 'Q2N914', 'Q2NA66', 'Q2NB04', 'Q2NCA2', 'Q2ND55', 'Q2NH72', 'Q2NH96', 'Q2NI62', 'Q2RPX6', 'Q2RU36', 'Q2RV31', 'Q2RXG3', 'Q2RYE4', 'Q2RZK0', 'Q2S319', 'Q2S5B2', 'Q2SB96', 'Q2SD32', 'Q2SII1', 'Q2SLI2', 'Q2SPM7', 'Q2SQP5', 'Q2UF17', 'Q2USH2', 'Q2W3I8', 'Q2Y669', 'Q2Y774', 'Q2YAR1', 'Q2YL20', 'Q2YMD0', 'Q2YPM1', 'Q2YR99', 'Q30Q42', 'Q30V41', 'Q30WD8', 'Q30Y90', 'Q314Q6', 'Q317D5', 'Q31K00', 'Q31NP3', 'Q32GU1', 'Q383X6', 'Q38VE6', 'Q39316', 'Q39541', 'Q39QB1', 'Q39RL5', 'Q39RZ7', 'Q39S58', 'Q39TG9', 'Q39TW4', 'Q3A0D1', 'Q3A0D2', 'Q3A109', 'Q3A3H0', 'Q3A3M3', 'Q3A3N4', 'Q3A517', 'Q3A640', 'Q3AA02', 'Q3ACE5', 'Q3AEW3', 'Q3IC09', 'Q3IC99', 'Q3ICB5', 'Q3IEI1', 'Q3IHW6', 'Q3IK57', 'Q3IZ86', 'Q3J1Q6', 'Q3J3F7', 'Q3JEV2', 'Q3JF34', 'Q3SL15', 'Q40839', 'Q40994', 'Q41366', 'Q43640', 'Q46212', 'Q46IU6', 'Q46JM1', 'Q48740', 'Q48741', 'Q4CX87', 'Q4D5P4', 'Q4DDM3', 'Q4DRH6', 'Q4FM87', 'Q4FML9', 'Q4FP31', 'Q4N1P9', 'Q4N4N3', 'Q4Q198', 'Q4QG31', 'Q4UGC8', 'Q4V443', 'Q53WF9', 'Q549T3', 'Q55666', 'Q55AD5', 'Q57US9', 'Q5BC96', 'Q5BEZ9', 'Q5CSF3', 'Q5CUW0', 'Q5DZF7', 'Q5DZH4', 'Q5E8I8', 'Q5E8J7', 'Q5FQ39', 'Q5FQD2', 'Q5HKI6', 'Q5HKM0', 'Q5HLP6', 'Q5JDA6', 'Q5KJB8', 'Q5KNK2', 'Q5KP05', 'Q5L162', 'Q5LID8', 'Q5LLB7', 'Q5LV22', 'Q5LV66', 'Q5LW52', 'Q5LWY2', 'Q5M4N9', 'Q5NCR5', 'Q5NF27', 'Q5NG96', 'Q5P7G5', 'Q5QTX8', 'Q5QU32', 'Q5QV17', 'Q5QZC3', 'Q5R0A3', 'Q5SI06', 'Q5SJW2', 'Q5SLR1', 'Q5UWH1', 'Q5WAM1', 'Q5WHS5', 'Q5WJJ9', 'Q5YVI7', 'Q5YW00', 'Q5YWD1', 'Q5ZWW2', 'Q5ZYI1', 'Q603S6', 'Q60715', 'Q607J4', 'Q609B3', 'Q609J1', 'Q62S38', 'Q62ZJ2', 'Q63HZ8', 'Q63JE3', 'Q63KU4', 'Q63M50', 'Q63MF1', 'Q63WW7', 'Q63Z01', 'Q65FI1', 'Q65FJ0', 'Q65NE7', 'Q67654', 'Q67QI0', 'Q67RX4', 'Q6AEP5', 'Q6AES8', 'Q6AK20', 'Q6AKS8', 'Q6ANJ1', 'Q6BKY7', 'Q6BMR2', 'Q6BYU8', 'Q6C0T2', 'Q6C3M8', 'Q6C617', 'Q6C806', 'Q6CDS0', 'Q6CKA7', 'Q6CUU6', 'Q6CYW0', 'Q6D3M3', 'Q6D4F8', 'Q6D6B5', 'Q6D7H7', 'Q6DI22', 'Q6F6U5', 'Q6F7L0', 'Q6F7X4', 'Q6F8L1', 'Q6FCL4', 'Q6FF63', 'Q6FLR0', 'Q6FSQ3', 'Q6KH63', 'Q6L001', 'Q6L1Y1', 'Q6LG76', 'Q6LLI1', 'Q6LMX1', 'Q6LPU4', 'Q6LYD3', 'Q6LYW5', 'Q6M0V7', 'Q6MCB4', 'Q6MIG3', 'Q6MIR6', 'Q6MK70', 'Q6MLF7', 'Q6MLI6', 'Q6MLW9', 'Q6MM12', 'Q6MPR6', 'Q6MPX0', 'Q6MRE7', 'Q6MTX8', 'Q6N0Q3', 'Q6N1I9', 'Q6N1Z1', 'Q6N4R6', 'Q6N5J9', 'Q6N5M7', 'Q6N907', 'Q6NAI8', 'Q6NBL0', 'Q6NBU6', 'Q6NDB9', 'Q6TV04', 'Q6V9B3', 'Q726Y0', 'Q72C72', 'Q72EI1', 'Q72F75', 'Q72G24', 'Q73J76', 'Q73M93', 'Q73Q34', 'Q73S82', 'Q73WJ2', 'Q73XK2', 'Q73Z54', 'Q744I9', 'Q747L4', 'Q749M0', 'Q74AD9', 'Q755Z3', 'Q75CF2', 'Q77G89', 'Q79ZA2', 'Q7AKI1', 'Q7AQK5', 'Q7AQM9', 'Q7CRE3', 'Q7CRK9', 'Q7D112', 'Q7D366', 'Q7LXQ8', 'Q7M8C0', 'Q7M8Y4', 'Q7MB23', 'Q7MRA0', 'Q7MT26', 'Q7MV92', 'Q7MXY1', 'Q7N2B0', 'Q7N5R2', 'Q7NEV2', 'Q7NQP0', 'Q7NSW1', 'Q7NVG8', 'Q7NW23', 'Q7NXG1', 'Q7NYT9', 'Q7NZ51', 'Q7NZL2', 'Q7RI51', 'Q7RSE5', 'Q7S5T8', 'Q7UFF8', 'Q7UGD2', 'Q7UGT3', 'Q7UI39', 'Q7UJ71', 'Q7UJB4', 'Q7UKR1', 'Q7UKZ1', 'Q7ULK4', 'Q7ULY5', 'Q7UP53', 'Q7UPZ9', 'Q7UQC8', 'Q7URG4', 'Q7URI3', 'Q7URK6', 'Q7US53', 'Q7UTD6', 'Q7UTX3', 'Q7UU97', 'Q7UWR3', 'Q7UXM1', 'Q7UXU2', 'Q7UYA4', 'Q7UYB9', 'Q7UYC2', 'Q7UYD6', 'Q7UYI5', 'Q7UZ09', 'Q7V5V8', 'Q7V6Y6', 'Q7V7V0', 'Q7VJR5', 'Q7VLT0', 'Q7VSR2', 'Q7VVT9', 'Q7VWF3', 'Q7VWZ3', 'Q7VX88', 'Q7W026', 'Q7W075', 'Q7W0C8', 'Q7W0H7', 'Q7X7A7', 'Q7XMP6', 'Q812L7', 'Q813K6', 'Q817V4', 'Q81B11', 'Q81BC1', 'Q81CI7', 'Q81FZ7', 'Q81GX0', 'Q81I41', 'Q820H7', 'Q820J9', 'Q825H6', 'Q828C1', 'Q82CV5', 'Q82J95', 'Q82MI0', 'Q82NF5', 'Q82NZ5', 'Q82QN7', 'Q82U25', 'Q82XD6', 'Q82XJ9', 'Q82ZZ6', 'Q834F3', 'Q836A9', 'Q837B9', 'Q839C4', 'Q83BQ9', 'Q83C95', 'Q83D31', 'Q83FF4', 'Q84406', 'Q87G44', 'Q87IG1', 'Q87KR2', 'Q87LU3', 'Q87M89', 'Q87Q98', 'Q87ZQ6', 'Q880V8', 'Q883D2', 'Q883E0', 'Q883S3', 'Q888A7', 'Q888J9', 'Q88CM2', 'Q88GT8', 'Q88HS1', 'Q88JW6', 'Q88KI2', 'Q88L88', 'Q88M67', 'Q88MC4', 'Q88NI9', 'Q88PV7', 'Q891U2', 'Q893I3', 'Q895T3', 'Q896V4', 'Q896Z8', 'Q897N8', 'Q897S8', 'Q899D7', 'Q899T1', 'Q89EL0', 'Q89FJ0', 'Q89FZ9', 'Q89HA7', 'Q89KJ1', 'Q89QF5', 'Q89SJ1', 'Q89WN5', 'Q89X63', 'Q8AAW0', 'Q8CUV9', 'Q8CVE1', 'Q8CYD2', 'Q8DJF3', 'Q8DK97', 'Q8DKV0', 'Q8DNK9', 'Q8DPL1', 'Q8DPQ9', 'Q8DVX8', 'Q8DVY5', 'Q8DXD1', 'Q8DXP4', 'Q8DY89', 'Q8E8G6', 'Q8E931', 'Q8EBV9', 'Q8EJ83', 'Q8EM05', 'Q8EMJ8', 'Q8EMM3', 'Q8ENX7', 'Q8EP33', 'Q8ES01', 'Q8EYS5', 'Q8F5N8', 'Q8F7Q3', 'Q8F7U5', 'Q8FRN7', 'Q8FRT3', 'Q8FSQ9', 'Q8G427', 'Q8G825', 'Q8G843', 'Q8H3I3', 'Q8IEA6', 'Q8IJJ4', 'Q8KYU5', 'Q8MXT1', 'Q8NP25', 'Q8NU69', 'Q8P5J0', 'Q8P7R1', 'Q8PD29', 'Q8PED2', 'Q8QUQ6', 'Q8R5U1', 'Q8R6B2', 'Q8R8Q2', 'Q8R9D1', 'Q8RBE9', 'Q8RBW8', 'Q8RCB6', 'Q8RD59', 'Q8RDC9', 'Q8RDW9', 'Q8RES5', 'Q8REX0', 'Q8RG11', 'Q8RH98', 'Q8RIJ1', 'Q8T294', 'Q8TH03', 'Q8TIP1', 'Q8TV51', 'Q8TVH7', 'Q8TXQ4', 'Q8U135', 'Q8U2D3', 'Q8W0A4', 'Q8WXI4', 'Q8XFQ4', 'Q8XHG6', 'Q8XJ82', 'Q8XL13', 'Q8XL90', 'Q8XN08', 'Q8XP30', 'Q8XPB1', 'Q8Y4C8', 'Q8Y4U3', 'Q8Y5N6', 'Q8Y6K0', 'Q8YK31', 'Q8YNJ6', 'Q8YSZ6', 'Q8YX42', 'Q8YZB5', 'Q8YZC8', 'Q8ZNN1', 'Q8ZXA0', 'Q8ZXP5', 'Q8ZXX8', 'Q91YE9', 'Q92MQ6', 'Q92MX8', 'Q92RH7', 'Q92SV1', 'Q92T34', 'Q92TB6', 'Q92TE5', 'Q92TG8', 'Q92TS1', 'Q92TY1', 'Q92X49', 'Q930D0', 'Q931A1', 'Q95W36', 'Q96806', 'Q96XV4', 'Q972A9', 'Q97DG6', 'Q97DK8', 'Q97ES4', 'Q97EW8', 'Q97FH5', 'Q97GM7', 'Q97HG6', 'Q97HJ7', 'Q97IU7', 'Q97J99', 'Q97M35', 'Q97MC7', 'Q97MS1', 'Q97MV2', 'Q97N23', 'Q97N29', 'Q97U35', 'Q97UK9', 'Q97UX0', 'Q97UX9', 'Q97VK2', 'Q97VM1', 'Q97VU5', 'Q97ZK1', 'Q98318', 'Q98DU5', 'Q9A226', 'Q9A2B9', 'Q9A2C0', 'Q9A2J7', 'Q9A395', 'Q9A3H0', 'Q9A3I9', 'Q9A3L4', 'Q9A4L0', 'Q9A5G2', 'Q9A5H5', 'Q9A6K6', 'Q9A7D3', 'Q9A7Q7', 'Q9A9B2', 'Q9ABN6', 'Q9ABZ4', 'Q9CA90', 'Q9CE59', 'Q9CEB6', 'Q9CEE8', 'Q9CHW4', 'Q9CJD7', 'Q9CKF1', 'Q9CM67', 'Q9CMA6', 'Q9CNU6', 'Q9CNZ3', 'Q9DCP4', 'Q9EQH5', 'Q9EZ95', 'Q9HJM0', 'Q9HK12', 'Q9HKJ9', 'Q9HKW7', 'Q9HLD7', 'Q9HM06', 'Q9HMQ9', 'Q9HMR0', 'Q9HPW9', 'Q9HPZ1', 'Q9HQ61', 'Q9HR42', 'Q9HRI4', 'Q9HSS1', 'Q9HT54', 'Q9HTJ3', 'Q9HTM6', 'Q9HTU8', 'Q9HTY7', 'Q9HU01', 'Q9HU04', 'Q9HUY0', 'Q9HVD4', 'Q9HVG5', 'Q9HWT5', 'Q9HX45', 'Q9HXB7', 'Q9HXQ3', 'Q9HY36', 'Q9HZX5', 'Q9I042', 'Q9I1L0', 'Q9I2K3', 'Q9I300', 'Q9I394', 'Q9I3C7', 'Q9I448', 'Q9I4Y1', 'Q9I4Z5', 'Q9I501', 'Q9I530', 'Q9I5H2', 'Q9I669', 'Q9I6H5', 'Q9JPH9', 'Q9JY94', 'Q9JZR7', 'Q9K4C6', 'Q9K7F7', 'Q9K7N9', 'Q9K7P7', 'Q9K832', 'Q9K8B6', 'Q9K9P3', 'Q9KAI5', 'Q9KAJ9', 'Q9KB69', 'Q9KBC9', 'Q9KBD3', 'Q9KCG9', 'Q9KDJ7', 'Q9KEQ1', 'Q9KFS7', 'Q9KG97', 'Q9KGA6', 'Q9KGA8', 'Q9KGK6', 'Q9KL09', 'Q9KLW1', 'Q9KMX4', 'Q9KNB0', 'Q9KP92', 'Q9KQR0', 'Q9KR07', 'Q9KRE1', 'Q9KSS3', 'Q9KTU3', 'Q9KU35', 'Q9L110', 'Q9L245', 'Q9LDF5', 'Q9LWL3', 'Q9M2E4', 'Q9NPJ3', 'Q9R1J8', 'Q9RJW2', 'Q9RKA5', 'Q9RKW0', 'Q9RMY5', 'Q9RS29', 'Q9RTQ5', 'Q9RU91', 'Q9RUA4', 'Q9RVM7', 'Q9RVW9', 'Q9RW22', 'Q9RXN1', 'Q9RYV8', 'Q9RZ10', 'Q9RZD5', 'Q9RZL9', 'Q9S2J8', 'Q9S2M5', 'Q9SB32', 'Q9SD54', 'Q9SHG1', 'Q9SN92', 'Q9SNC8', 'Q9SP53', 'Q9SQ80', 'Q9SRM3', 'Q9SYM7', 'Q9U3P9', 'Q9UBQ7', 'Q9V397', 'Q9VA60', 'Q9VA64', 'Q9VA65', 'Q9VII9', 'Q9VKI8', 'Q9VL81', 'Q9VN98', 'Q9VUM4', 'Q9VVF0', 'Q9VVQ6', 'Q9VXI1', 'Q9VZZ5', 'Q9VZZ6', 'Q9W232', 'Q9WXM7', 'Q9WYP1', 'Q9X7N8', 'Q9X7R8', 'Q9XA30', 'Q9XAM0', 'Q9XBE0', 'Q9XFR9', 'Q9XH70', 'Q9XHR0', 'Q9XI75', 'Q9XIA5', 'Q9XIW9', 'Q9XJ43', 'Q9Y9L0', 'Q9YBW6', 'Q9YCJ2', 'Q9YFU3', 'Q9Z564', 'Q9ZBJ9', 'Q9ZD82', 'Q9ZQA5', 'Q9ZT84', 'Q9ZTA1', 'Q9ZTA2', 'Q9ZTA3', 'Q9ZU81', 'Q9ZWQ0', 'Q9ZWR7', 'R0I600', 'R0KXN9', 'R1EHC6', 'R1F6K4', 'R1GH63', 'R4K1D4', 'R4K647', 'R4K9Q7', 'R4KRY9', 'R4LHF8', 'R4SJR8', 'R4SK37', 'R4XBT6', 'R4XCW4', 'R4XF50', 'R4XJI5', 'R4XK23', 'R4XK90', 'R5CJ36', 'R5CY65', 'R5D088', 'R5E953', 'R5IN28', 'R5KBE6', 'R5KJ69', 'R5KRE3', 'R5KUB1', 'R5P3P7', 'R5PRK3', 'R5QIN0', 'R5QKP1', 'R5QL18', 'R5SLA4', 'R5TFM1', 'R5VJ13', 'R5X473', 'R5X9Y9', 'R5XCK2', 'R5Y125', 'R5YGX1', 'R6A655', 'R6A8I1', 'R6AEG4', 'R6AID4', 'R6AJS3', 'R6BCG8', 'R6BG32', 'R6BV55', 'R6CB63', 'R6E271', 'R6F8M6', 'R6FME9', 'R6GYB0', 'R6I144', 'R6IBY3', 'R6ICA3', 'R6J0P9', 'R6JNK2', 'R6JXN4', 'R6K1L6', 'R6LQI5', 'R6N3J4', 'R6P5Q1', 'R6QTK6', 'R6RE32', 'R6TN54', 'R6UEL9', 'R6URW1', 'R6XLG8', 'R6YYS5', 'R6ZF92', 'R6ZGU8', 'R6ZU51', 'R6ZVB6', 'R7ACF9', 'R7ACW1', 'R7C8B9', 'R7GA70', 'R7GD70', 'R7GLX2', 'R7GMA0', 'R7GQB0', 'R7HAH2', 'R7INZ9', 'R7JQT3', 'R7LR50', 'R7N481', 'R7R0E8', 'R7YKA7', 'R7YXQ7', 'R9AHB6', 'R9APZ1', 'R9SKK3', 'R9SMN4', 'R9SN96', 'S0DM84', 'S0DZW5', 'S0E5I9', 'S0E7L4', 'S0ETT1', 'S0F031', 'S2J0M3', 'S2JNL1', 'S2K6F6', 'S2KAQ4', 'S3C9S9', 'S3CD84', 'S3CNA8', 'S3CP99', 'S3CVU7', 'S3CY87', 'S3D0A7', 'S3D402', 'S3D409', 'S3D4H6', 'S3DB59', 'S3DD80', 'S3DE74', 'S3DEA9', 'S3DM19', 'S3DMA1', 'S3E6D9', 'S3NJI9', 'S3NN65', 'S5YCM4', 'S5YE89', 'S5YGN0', 'S6A3G3', 'S6AAH4', 'S6AAN6', 'S6AC69', 'S6ACD2', 'S6AMF6', 'S6ANK0', 'S6AQH1', 'S6BD72', 'S6BGK9', 'S6BUM0', 'S6D9L9', 'S7XFS0', 'S7Z8E1', 'S8AJJ7', 'S8BPD6', 'S8DWI3', 'S8EJY0', 'S9W2P3', 'S9XKI5', 'T0KHA3', 'T0LQT3', 'T0M4A1', 'T1EFQ3', 'T1EG24', 'T1FMT1', 'T1FNZ9', 'T1FU73', 'T1FXW3', 'T1G259', 'T1G9A7', 'T1HIV5', 'T1I7U2', 'T1JTB2', 'T1K983', 'T1KWG9', 'T1KZ25', 'T2GDN3', 'T2KHW6', 'T2KIG8', 'T2KIT3', 'T2KNL8', 'T2KP12', 'T2M3J6', 'U3IGJ9', 'U3J7Y9', 'U3JHI6', 'U3TP69', 'U3TX11', 'U4K8A8', 'U4KIY3', 'U4UQB1', 'U5GIQ5', 'U5H158', 'U5HGJ4', 'U5HH58', 'U5L6N8', 'U5LA13', 'U5LCK2', 'U5LG99', 'U5LHM8', 'U5MJZ3', 'U5MNT6', 'U5MRC4', 'U5MTS9', 'U5N595', 'U5N8U7', 'U5QG49', 'U5QKM8', 'U5QMW5', 'U5VS95', 'U6ECS5', 'U6ED84', 'U6EE65', 'U6J883', 'U7PPF5', 'U7PZV1', 'U7Q1F7', 'U7Q3A8', 'V2UQE6', 'V2X7X6', 'V2XFB0', 'V2XV00', 'V4BFM3', 'V4J7H6', 'V4JEQ1', 'V4KPM1', 'V4LIN0', 'V4ZFB1', 'V5FPQ3', 'V5G207', 'V5GFL7', 'V5HXK7', 'V5SAN1', 'V5SBH3', 'V5XE37', 'V6EXJ6', 'V6F219', 'V6F5X6', 'V6F8B9', 'V6JYI1', 'V6K8J0', 'V6KQ80', 'W0A7F6', 'W0AGW0', 'W0AHY8', 'W0AKP4', 'W0BBV3', 'W0E5Q8', 'W0E5V3', 'W0E6F2', 'W0EAC6', 'W0EAE6', 'W0EXJ9', 'W0EZI8', 'W0F0L6', 'W0F0R8', 'W0F0V1', 'W0F262', 'W0F2N7', 'W0F3B6', 'W0HZ55', 'W0J0N5', 'W0J769', 'W0PG21', 'W0PHH3', 'W0PHM8', 'W0REL6', 'W0REV6', 'W0RF96', 'W0RFD8', 'W0RFI9', 'W0RL62', 'W0RTW1', 'W1NJU8', 'W1QAH2', 'W1QKM7', 'W2Y354', 'W3WPY5', 'W3X4J2', 'W4HJH6', 'W5J7K3', 'W5J986', 'W5JJA0', 'W5K6J2', 'W5KXJ0', 'W5L467', 'W5L9Z1', 'W5MG18', 'W5MIL8', 'W5N894', 'W5Q3Q8', 'W5QG43', 'W5TJD9', 'W5TQZ4', 'W5WAP7', 'W5WJM2', 'W5WUA4', 'W6A5U6', 'W6RU99', 'W6RXW6', 'W6RYY7', 'W6S4H1', 'W7MRG1', 'W8F1F7', 'W8L1U2', 'W8S1G2', 'W8S1Q3', 'W8T3H7', 'W8TJ65', 'W8TL99', 'W8TQ02', 'W8U8X0', 'W8WTJ5', 'W8WTX1', 'W8X979', 'W9C5N4', 'W9C7P7', 'W9C8H9', 'W9C8P3', 'W9CAK9', 'W9CBY3', 'W9CKE8', 'W9CKZ7', 'W9CY73', 'W9IA66', 'W9RQ63', 'W9XN79', 'X0BQ45', 'X5DM27', 'X5DR45']\n",
      "Shape of 'A8ILB8': (0, 986, 1024)\n",
      "First 5 values of 'A8ILB8':\n",
      " []\n"
     ]
    }
   ],
   "source": [
    "import h5py\n",
    "\n",
    "# Open the HDF5 file in read mode\n",
    "with h5py.File(\"test_embeddings.h5\", \"r\") as f:\n",
    "    # List all top-level groups/datasets\n",
    "    print(\"Keys:\", list(f.keys()))\n",
    "    \n",
    "    # Example: Access the first dataset\n",
    "    first_key = list(f.keys())[1000]\n",
    "    data = f[first_key][:]\n",
    "    print(f\"Shape of '{first_key}':\", data.shape)\n",
    "    print(f\"First 5 values of '{first_key}':\\n\", data[:5])"
   ]
  }
 ],
 "metadata": {
  "kernelspec": {
   "display_name": "pp1",
   "language": "python",
   "name": "python3"
  },
  "language_info": {
   "codemirror_mode": {
    "name": "ipython",
    "version": 3
   },
   "file_extension": ".py",
   "mimetype": "text/x-python",
   "name": "python",
   "nbconvert_exporter": "python",
   "pygments_lexer": "ipython3",
   "version": "3.13.0"
  }
 },
 "nbformat": 4,
 "nbformat_minor": 5
}
