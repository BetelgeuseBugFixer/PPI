{
 "cells": [
  {
   "cell_type": "code",
   "execution_count": 5,
   "id": "861446ec-48a9-4052-a5c8-4c6a78f1f169",
   "metadata": {},
   "outputs": [],
   "source": [
    "# import request\n",
    "import re\n",
    "from itertools import islice"
   ]
  },
  {
   "cell_type": "code",
   "execution_count": 6,
   "id": "17b9e450-02db-4671-bfc4-d1c17e147d19",
   "metadata": {},
   "outputs": [],
   "source": [
    "gene_pfam_list = []\n",
    "\n",
    "current_pfam = \"\"\n",
    "\n",
    "with open(\"../raw/Pfam-A.seed\") as file:\n",
    "    for line in file:\n",
    "        line = line.strip()\n",
    "        if (line.startswith(\"#=GF AC\")):\n",
    "            current_pfam = line.split(\" \")[-1]\n",
    "            \n",
    "        elif (line.startswith(\"#=GS \") and \"AC \" in line):\n",
    "\n",
    "            match = re.match(r\"#=GS\\s+(\\S+?)/(\\d+-\\d+)\\s+AC\\s+(\\S+)\", line)\n",
    "            if match:\n",
    "                residue_range = match.group(2).split(\"-\")  \n",
    "                accession = match.group(3)      \n",
    "            gene_pfam_list.append( [accession, current_pfam, int(residue_range[0]), int(residue_range[1])])"
   ]
  },
  {
   "cell_type": "code",
   "execution_count": 3,
   "id": "c9928127-a760-440f-b7bc-520caf9c6773",
   "metadata": {
    "scrolled": true
   },
   "outputs": [
    {
     "name": "stdout",
     "output_type": "stream",
     "text": [
      "['A1AL94.1', 'PF10417.14', 160, 195]\n",
      "['A0A0F7V1V9.1', 'PF10417.14', 243, 280]\n",
      "['Q4UGC8.1', 'PF10417.14', 223, 258]\n",
      "['A4H879.1', 'PF10417.14', 162, 198]\n",
      "['A0A0M5IXP6.1', 'PF10417.14', 166, 205]\n",
      "['Q1QPP6.1', 'PF10417.14', 169, 202]\n",
      "['A0A8G2FVQ7.1', 'PF10417.14', 153, 192]\n",
      "['Q30Y90.1', 'PF10417.14', 159, 202]\n",
      "['Q9Y9L0.1', 'PF10417.14', 160, 203]\n",
      "['Q5JF30.1', 'PF10417.14', 155, 198]\n",
      "1404649\n"
     ]
    }
   ],
   "source": [
    "for i in gene_pfam_list[:10]:\n",
    "    print(i)\n",
    "\n",
    "print(len(gene_pfam_list))"
   ]
  },
  {
   "cell_type": "code",
   "execution_count": 7,
   "id": "200281c8-7e56-46e2-9d89-94d4a22c1c54",
   "metadata": {},
   "outputs": [
    {
     "name": "stdout",
     "output_type": "stream",
     "text": [
      "1247434\n"
     ]
    }
   ],
   "source": [
    "unique_genes = set()\n",
    "for i in gene_pfam_list:\n",
    "    unique_genes.add(i[0])\n",
    "\n",
    "unique_genes = list(unique_genes)\n",
    "print(len(unique_genes))"
   ]
  },
  {
   "cell_type": "code",
   "execution_count": 8,
   "id": "6e339594-a8e7-4a3b-9aa9-b2554bea3fc4",
   "metadata": {},
   "outputs": [],
   "source": [
    "unique_genes = list(unique_genes)\n",
    "\n",
    "chunk_size = 100000\n",
    "for idx in range(0, len(unique_genes), chunk_size):\n",
    "    chunk = unique_genes[idx:idx + chunk_size]\n",
    "    filename = f\"unique_genes_chunk_{idx // chunk_size + 1}.txt\"\n",
    "    with open(filename, \"w\") as f:\n",
    "        f.write(\" \".join(chunk))\n"
   ]
  },
  {
   "cell_type": "code",
   "execution_count": 15,
   "id": "61aca063-761f-4d0b-ab48-7cf5279c4c97",
   "metadata": {},
   "outputs": [
    {
     "name": "stdout",
     "output_type": "stream",
     "text": [
      "Batch 1 saved to sequences/sequences_batch_1.fasta (1000 entries).\n",
      "Batch 2 saved to sequences/sequences_batch_2.fasta (1000 entries).\n",
      "Batch 3 saved to sequences/sequences_batch_3.fasta (1000 entries).\n",
      "Batch 4 saved to sequences/sequences_batch_4.fasta (1000 entries).\n",
      "Batch 5 saved to sequences/sequences_batch_5.fasta (1000 entries).\n",
      "Batch 6 saved to sequences/sequences_batch_6.fasta (1000 entries).\n",
      "Batch 7 saved to sequences/sequences_batch_7.fasta (1000 entries).\n",
      "Batch 8 saved to sequences/sequences_batch_8.fasta (1000 entries).\n",
      "Batch 9 saved to sequences/sequences_batch_9.fasta (1000 entries).\n",
      "Batch 10 saved to sequences/sequences_batch_10.fasta (1000 entries).\n",
      "Batch 11 saved to sequences/sequences_batch_11.fasta (1000 entries).\n",
      "Batch 12 saved to sequences/sequences_batch_12.fasta (1000 entries).\n",
      "Batch 13 saved to sequences/sequences_batch_13.fasta (1000 entries).\n",
      "Batch 14 saved to sequences/sequences_batch_14.fasta (1000 entries).\n",
      "Batch 15 saved to sequences/sequences_batch_15.fasta (1000 entries).\n",
      "Batch 16 saved to sequences/sequences_batch_16.fasta (1000 entries).\n",
      "Batch 17 saved to sequences/sequences_batch_17.fasta (1000 entries).\n",
      "Batch 18 saved to sequences/sequences_batch_18.fasta (1000 entries).\n",
      "Batch 19 saved to sequences/sequences_batch_19.fasta (1000 entries).\n",
      "Batch 20 saved to sequences/sequences_batch_20.fasta (1000 entries).\n",
      "Batch 21 saved to sequences/sequences_batch_21.fasta (1000 entries).\n",
      "Batch 22 saved to sequences/sequences_batch_22.fasta (1000 entries).\n",
      "Batch 23 saved to sequences/sequences_batch_23.fasta (1000 entries).\n",
      "Batch 24 saved to sequences/sequences_batch_24.fasta (1000 entries).\n",
      "Batch 25 saved to sequences/sequences_batch_25.fasta (1000 entries).\n"
     ]
    }
   ],
   "source": [
    "import requests\n",
    "import os\n",
    "\n",
    "def fetch_uniprot_fasta_batch(accessions, batch_size=10000, output_prefix=\"sequences_batch\"):\n",
    "    url = \"https://rest.uniprot.org/uniprotkb/stream\"\n",
    "    # os.makedirs(\"batches\", exist_ok=True)  # Save files in a folder named 'batches'\n",
    "\n",
    "    for i in range(0, int(len(accessions)), batch_size):\n",
    "        batch = accessions[i:i + batch_size]\n",
    "        params = {\n",
    "            \"format\": \"fasta\",\n",
    "            \"query\": \" OR \".join(batch)\n",
    "        }\n",
    "        response = requests.get(url, params=params)\n",
    "\n",
    "        batch_number = i // batch_size + 1\n",
    "        output_file = f\"sequences/{output_prefix}_{batch_number}.fasta\"\n",
    "\n",
    "        if response.ok:\n",
    "            with open(output_file, \"w\") as f:\n",
    "                f.write(response.text)\n",
    "            print(f\"Batch {batch_number} saved to {output_file} ({len(batch)} entries).\")\n",
    "        else:\n",
    "            print(f\"Failed to retrieve batch {batch_number}: {response.status_code}\")\n",
    "\n",
    "\n",
    "\n",
    "fetch_uniprot_fasta_batch(unique_genes, batch_size=1000)"
   ]
  },
  {
   "cell_type": "code",
   "execution_count": 37,
   "id": "a8a67265-b0fa-44b0-ad27-3e36b8a02038",
   "metadata": {},
   "outputs": [],
   "source": [
    "from Bio import SeqIO\n",
    "import pandas as pd\n",
    "from Bio.SeqIO.FastaIO import SimpleFastaParser\n",
    "\n",
    "with open('sequences/sequences_batch_10.fasta') as fasta_file:  # Will close handle cleanly\n",
    "    identifiers = []\n",
    "    sequences = []\n",
    "    for title, sequence in SimpleFastaParser(fasta_file):\n",
    "        identifiers.append(title.split(\"|\")[1])\n",
    "        sequences.append(sequence)\n"
   ]
  },
  {
   "cell_type": "code",
   "execution_count": 27,
   "id": "b888d1d4-5a12-4a96-9c3d-e4934ff3f57a",
   "metadata": {},
   "outputs": [
    {
     "data": {
      "text/plain": [
       "['D9QDE2.1',\n",
       " 'A0A1H3DFC8.1',\n",
       " 'M9TCE6.1',\n",
       " 'Q5KFS3.1',\n",
       " 'S2JEP5.1',\n",
       " 'A0A0K1XCU9.1',\n",
       " 'K7ENQ8.2',\n",
       " 'A9CHP7.1',\n",
       " 'Q9Y959.2',\n",
       " 'A0A4P7JMD4.1']"
      ]
     },
     "execution_count": 27,
     "metadata": {},
     "output_type": "execute_result"
    }
   ],
   "source": [
    "unique_genes[:10]"
   ]
  },
  {
   "cell_type": "code",
   "execution_count": 38,
   "id": "eb12af70-489f-43fc-b139-aea62f3fabc5",
   "metadata": {},
   "outputs": [
    {
     "name": "stdout",
     "output_type": "stream",
     "text": [
      "951\n",
      "951\n"
     ]
    }
   ],
   "source": [
    "print(len(identifiers))\n",
    "\n",
    "print(len(set(identifiers)))"
   ]
  },
  {
   "cell_type": "code",
   "execution_count": 34,
   "id": "80d5e2dd-b7d1-4bbc-bce5-3db2c0798bc8",
   "metadata": {},
   "outputs": [],
   "source": [
    "from Bio.SeqIO.FastaIO import SimpleFastaParser\n",
    "import pandas as pd\n",
    "\n",
    "identifiers = []\n",
    "sequences = []\n",
    "\n",
    "# Loop through batch files 1 to 10\n",
    "for i in range(1, 11):\n",
    "    filepath = f'sequences/sequences_batch_{i}.fasta'\n",
    "    with open(filepath) as fasta_file:\n",
    "        for title, sequence in SimpleFastaParser(fasta_file):\n",
    "            identifiers.append(title.split(\"|\")[1])\n",
    "            sequences.append(sequence)\n",
    "\n",
    "# Create DataFrame\n",
    "df = pd.DataFrame({'id': identifiers, 'sequence': sequences})\n",
    "\n",
    "df['pfams'] = df['sequence'].apply(lambda seq: [None] * len(seq))\n",
    "\n",
    "df.set_index('id', inplace=True)"
   ]
  },
  {
   "cell_type": "code",
   "execution_count": 35,
   "id": "6004b211-8b13-4062-8cd1-81593825d9f2",
   "metadata": {},
   "outputs": [
    {
     "data": {
      "text/html": [
       "<div>\n",
       "<style scoped>\n",
       "    .dataframe tbody tr th:only-of-type {\n",
       "        vertical-align: middle;\n",
       "    }\n",
       "\n",
       "    .dataframe tbody tr th {\n",
       "        vertical-align: top;\n",
       "    }\n",
       "\n",
       "    .dataframe thead th {\n",
       "        text-align: right;\n",
       "    }\n",
       "</style>\n",
       "<table border=\"1\" class=\"dataframe\">\n",
       "  <thead>\n",
       "    <tr style=\"text-align: right;\">\n",
       "      <th></th>\n",
       "      <th>sequence</th>\n",
       "      <th>pfams</th>\n",
       "    </tr>\n",
       "    <tr>\n",
       "      <th>id</th>\n",
       "      <th></th>\n",
       "      <th></th>\n",
       "    </tr>\n",
       "  </thead>\n",
       "  <tbody>\n",
       "    <tr>\n",
       "      <th>B6HMS2</th>\n",
       "      <td>MGEVFLDKTISLLSSDKQKARSDGLAVFHLPRQTLNDKACHKIFES...</td>\n",
       "      <td>[None, None, None, None, None, None, None, Non...</td>\n",
       "    </tr>\n",
       "    <tr>\n",
       "      <th>O13688</th>\n",
       "      <td>MNASNNISKFPDLDNSSKLIDHILDSDDSEELDELPDISSLVPSAR...</td>\n",
       "      <td>[None, None, None, None, None, None, None, Non...</td>\n",
       "    </tr>\n",
       "    <tr>\n",
       "      <th>O13710</th>\n",
       "      <td>MDGLRPSKRRKSNPLYSDYALGSIVRIKLVNFVTYDYCELFPGPYL...</td>\n",
       "      <td>[None, None, None, None, None, None, None, Non...</td>\n",
       "    </tr>\n",
       "    <tr>\n",
       "      <th>O14646</th>\n",
       "      <td>MNGHSDEESVRNSSGESSQSDDDSGSASGSGSGSSSGSSSDGSSSQ...</td>\n",
       "      <td>[None, None, None, None, None, None, None, Non...</td>\n",
       "    </tr>\n",
       "    <tr>\n",
       "      <th>O60341</th>\n",
       "      <td>MLSGKKAAAAAAAAAAAATGTEAGPGTAGGSENGSEVAAQPAGLSG...</td>\n",
       "      <td>[None, None, None, None, None, None, None, Non...</td>\n",
       "    </tr>\n",
       "    <tr>\n",
       "      <th>...</th>\n",
       "      <td>...</td>\n",
       "      <td>...</td>\n",
       "    </tr>\n",
       "    <tr>\n",
       "      <th>W1QJR7</th>\n",
       "      <td>MPPKKAQKAQKDAEKKKNAKKVQKQLEDKTFGLKNKNKSKKVQQYV...</td>\n",
       "      <td>[None, None, None, None, None, None, None, Non...</td>\n",
       "    </tr>\n",
       "    <tr>\n",
       "      <th>W5TR13</th>\n",
       "      <td>MAMPDDSEPPPRTRRRTRITLTGDGPALIEGPVELLTADGRTVRSD...</td>\n",
       "      <td>[None, None, None, None, None, None, None, Non...</td>\n",
       "    </tr>\n",
       "    <tr>\n",
       "      <th>W7YA85</th>\n",
       "      <td>MKKSKLKVKKHLNRYERFIGHTYVFLMFAAILGSCTYFLLKQNKDL...</td>\n",
       "      <td>[None, None, None, None, None, None, None, Non...</td>\n",
       "    </tr>\n",
       "    <tr>\n",
       "      <th>W8KFH6</th>\n",
       "      <td>MLLKIRDKASGWFAYAIIIMITIPFALWGVHEYFGGGARLVAAEVN...</td>\n",
       "      <td>[None, None, None, None, None, None, None, Non...</td>\n",
       "    </tr>\n",
       "    <tr>\n",
       "      <th>X0PSY2</th>\n",
       "      <td>MRTSKPYARLTKILITVLIVVFSILIAGGFLIFKNEAPRPAKIVNT...</td>\n",
       "      <td>[None, None, None, None, None, None, None, Non...</td>\n",
       "    </tr>\n",
       "  </tbody>\n",
       "</table>\n",
       "<p>9329 rows × 2 columns</p>\n",
       "</div>"
      ],
      "text/plain": [
       "                                                 sequence  \\\n",
       "id                                                          \n",
       "B6HMS2  MGEVFLDKTISLLSSDKQKARSDGLAVFHLPRQTLNDKACHKIFES...   \n",
       "O13688  MNASNNISKFPDLDNSSKLIDHILDSDDSEELDELPDISSLVPSAR...   \n",
       "O13710  MDGLRPSKRRKSNPLYSDYALGSIVRIKLVNFVTYDYCELFPGPYL...   \n",
       "O14646  MNGHSDEESVRNSSGESSQSDDDSGSASGSGSGSSSGSSSDGSSSQ...   \n",
       "O60341  MLSGKKAAAAAAAAAAAATGTEAGPGTAGGSENGSEVAAQPAGLSG...   \n",
       "...                                                   ...   \n",
       "W1QJR7  MPPKKAQKAQKDAEKKKNAKKVQKQLEDKTFGLKNKNKSKKVQQYV...   \n",
       "W5TR13  MAMPDDSEPPPRTRRRTRITLTGDGPALIEGPVELLTADGRTVRSD...   \n",
       "W7YA85  MKKSKLKVKKHLNRYERFIGHTYVFLMFAAILGSCTYFLLKQNKDL...   \n",
       "W8KFH6  MLLKIRDKASGWFAYAIIIMITIPFALWGVHEYFGGGARLVAAEVN...   \n",
       "X0PSY2  MRTSKPYARLTKILITVLIVVFSILIAGGFLIFKNEAPRPAKIVNT...   \n",
       "\n",
       "                                                    pfams  \n",
       "id                                                         \n",
       "B6HMS2  [None, None, None, None, None, None, None, Non...  \n",
       "O13688  [None, None, None, None, None, None, None, Non...  \n",
       "O13710  [None, None, None, None, None, None, None, Non...  \n",
       "O14646  [None, None, None, None, None, None, None, Non...  \n",
       "O60341  [None, None, None, None, None, None, None, Non...  \n",
       "...                                                   ...  \n",
       "W1QJR7  [None, None, None, None, None, None, None, Non...  \n",
       "W5TR13  [None, None, None, None, None, None, None, Non...  \n",
       "W7YA85  [None, None, None, None, None, None, None, Non...  \n",
       "W8KFH6  [None, None, None, None, None, None, None, Non...  \n",
       "X0PSY2  [None, None, None, None, None, None, None, Non...  \n",
       "\n",
       "[9329 rows x 2 columns]"
      ]
     },
     "execution_count": 35,
     "metadata": {},
     "output_type": "execute_result"
    }
   ],
   "source": [
    "df"
   ]
  },
  {
   "cell_type": "code",
   "execution_count": 39,
   "id": "240d0836-11b2-443e-96e8-36d4d4be4e36",
   "metadata": {},
   "outputs": [
    {
     "name": "stdout",
     "output_type": "stream",
     "text": [
      "grouped\n",
      "Warning: 'pfams' for id=P42771 is not a list!\n",
      "Warning: 'pfams' for id=P28799 is not a list!\n",
      "Warning: 'pfams' for id=P42858 is not a list!\n",
      "Warning: 'pfams' for id=Q8NHU6 is not a list!\n"
     ]
    }
   ],
   "source": [
    "from collections import defaultdict\n",
    "\n",
    "# Step 1: Group updates by id\n",
    "updates = defaultdict(list)\n",
    "for id, pfam, start, end in gene_pfam_list:\n",
    "    updates[id].append((start, end, pfam))\n",
    "\n",
    "print(\"grouped\")\n",
    "\n",
    "# Step 2: Apply all updates per id\n",
    "for id, changes in updates.items():\n",
    "    # Ensure we're using the correct ID without the extra parts after '.'\n",
    "    id_key = id.split('.')[0]\n",
    "\n",
    "    if id_key in df.index:\n",
    "        pfam_list = df.at[id_key, 'pfams']\n",
    "        \n",
    "        # Ensure pfam_list is a list\n",
    "        if isinstance(pfam_list, list):\n",
    "            for start, end, pfam in changes:\n",
    "                # Ensure indices are within bounds\n",
    "                if 0 <= start < end <= len(pfam_list):\n",
    "                    # Safely modify the list slice\n",
    "                    pfam_list[start:end] = [pfam] * (end - start)\n",
    "                else:\n",
    "                    print(f\"Skipping invalid range: {id_key}, start={start}, end={end}, len(pfam_list)={len(pfam_list)}\")\n",
    "        else:\n",
    "            print(f\"Warning: 'pfams' for id={id_key} is not a list!\")\n",
    "\n"
   ]
  },
  {
   "cell_type": "code",
   "execution_count": 51,
   "id": "e2767285-e550-4dd9-a4f7-b5d0255d4f9b",
   "metadata": {},
   "outputs": [
    {
     "name": "stdout",
     "output_type": "stream",
     "text": [
      "id\n",
      "Q8NHU6    1098\n",
      "Q8NHU6    1098\n",
      "Name: sequence, dtype: int64\n"
     ]
    }
   ],
   "source": [
    "sequences = df.loc[\"Q8NHU6\"][\"sequence\"]\n",
    "\n",
    "sequence_lengths = sequences.apply(len)\n",
    "print(sequence_lengths)"
   ]
  },
  {
   "cell_type": "code",
   "execution_count": 41,
   "id": "b3a9aaa5-b716-47f7-a4ea-317c35a19c6a",
   "metadata": {},
   "outputs": [
    {
     "name": "stdout",
     "output_type": "stream",
     "text": [
      "                                                 sequence  \\\n",
      "id                                                          \n",
      "B6HMS2  MGEVFLDKTISLLSSDKQKARSDGLAVFHLPRQTLNDKACHKIFES...   \n",
      "O13688  MNASNNISKFPDLDNSSKLIDHILDSDDSEELDELPDISSLVPSAR...   \n",
      "O14646  MNGHSDEESVRNSSGESSQSDDDSGSASGSGSGSSSGSSSDGSSSQ...   \n",
      "O60341  MLSGKKAAAAAAAAAAAATGTEAGPGTAGGSENGSEVAAQPAGLSG...   \n",
      "P0A6E6  MAMTYHLDVVSAEQQMFSGLVEKIQVTGSEGELGIYPGHAPLLTAI...   \n",
      "...                                                   ...   \n",
      "W1QJR7  MPPKKAQKAQKDAEKKKNAKKVQKQLEDKTFGLKNKNKSKKVQQYV...   \n",
      "W5TR13  MAMPDDSEPPPRTRRRTRITLTGDGPALIEGPVELLTADGRTVRSD...   \n",
      "W7YA85  MKKSKLKVKKHLNRYERFIGHTYVFLMFAAILGSCTYFLLKQNKDL...   \n",
      "W8KFH6  MLLKIRDKASGWFAYAIIIMITIPFALWGVHEYFGGGARLVAAEVN...   \n",
      "X0PSY2  MRTSKPYARLTKILITVLIVVFSILIAGGFLIFKNEAPRPAKIVNT...   \n",
      "\n",
      "                                                    pfams  \n",
      "id                                                         \n",
      "B6HMS2  [None, None, None, None, None, None, PF11640.1...  \n",
      "O13688  [None, PF08691.15, PF08691.15, PF08691.15, PF0...  \n",
      "O14646  [None, None, None, None, None, None, None, Non...  \n",
      "O60341  [None, None, None, None, None, None, None, Non...  \n",
      "P0A6E6  [None, None, None, None, None, PF02823.21, PF0...  \n",
      "...                                                   ...  \n",
      "W1QJR7  [None, None, None, None, None, None, None, Non...  \n",
      "W5TR13  [None, None, None, None, None, None, None, Non...  \n",
      "W7YA85  [None, None, None, None, None, None, None, Non...  \n",
      "W8KFH6  [None, PF13624.11, PF13624.11, PF13624.11, PF1...  \n",
      "X0PSY2  [None, None, None, None, None, None, None, Non...  \n",
      "\n",
      "[8984 rows x 2 columns]\n"
     ]
    }
   ],
   "source": [
    "non_empty_pfams = df[df['pfams'].apply(lambda pfams: any(p is not None for p in pfams))]\n",
    "print(non_empty_pfams)\n"
   ]
  }
 ],
 "metadata": {
  "kernelspec": {
   "display_name": "Python 3 (ipykernel)",
   "language": "python",
   "name": "python3"
  },
  "language_info": {
   "codemirror_mode": {
    "name": "ipython",
    "version": 3
   },
   "file_extension": ".py",
   "mimetype": "text/x-python",
   "name": "python",
   "nbconvert_exporter": "python",
   "pygments_lexer": "ipython3",
   "version": "3.10.12"
  }
 },
 "nbformat": 4,
 "nbformat_minor": 5
}
