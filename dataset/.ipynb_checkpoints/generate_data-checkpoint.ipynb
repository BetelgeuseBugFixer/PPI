{
 "cells": [
  {
   "cell_type": "code",
   "execution_count": 1,
   "id": "861446ec-48a9-4052-a5c8-4c6a78f1f169",
   "metadata": {},
   "outputs": [],
   "source": [
    "# import request\n",
    "import re\n",
    "from itertools import islice"
   ]
  },
  {
   "cell_type": "code",
   "execution_count": 2,
   "id": "17b9e450-02db-4671-bfc4-d1c17e147d19",
   "metadata": {},
   "outputs": [],
   "source": [
    "gene_pfam_list = []\n",
    "\n",
    "current_pfam = \"\"\n",
    "\n",
    "with open(\"../raw/Pfam-A.seed\") as file:\n",
    "    for line in file:\n",
    "        line = line.strip()\n",
    "        if (line.startswith(\"#=GF AC\")):\n",
    "            current_pfam = line.split(\" \")[-1]\n",
    "            \n",
    "        elif (line.startswith(\"#=GS \") and \"AC \" in line):\n",
    "\n",
    "            match = re.match(r\"#=GS\\s+(\\S+?)/(\\d+-\\d+)\\s+AC\\s+(\\S+)\", line)\n",
    "            if match:\n",
    "                residue_range = match.group(2).split(\"-\")  \n",
    "                accession = match.group(3)      \n",
    "            gene_pfam_list.append( [accession, current_pfam, int(residue_range[0]), int(residue_range[1])])"
   ]
  },
  {
   "cell_type": "code",
   "execution_count": 3,
   "id": "c9928127-a760-440f-b7bc-520caf9c6773",
   "metadata": {
    "scrolled": true
   },
   "outputs": [
    {
     "name": "stdout",
     "output_type": "stream",
     "text": [
      "['A1AL94.1', 'PF10417.14', 160, 195]\n",
      "['A0A0F7V1V9.1', 'PF10417.14', 243, 280]\n",
      "['Q4UGC8.1', 'PF10417.14', 223, 258]\n",
      "['A4H879.1', 'PF10417.14', 162, 198]\n",
      "['A0A0M5IXP6.1', 'PF10417.14', 166, 205]\n",
      "['Q1QPP6.1', 'PF10417.14', 169, 202]\n",
      "['A0A8G2FVQ7.1', 'PF10417.14', 153, 192]\n",
      "['Q30Y90.1', 'PF10417.14', 159, 202]\n",
      "['Q9Y9L0.1', 'PF10417.14', 160, 203]\n",
      "['Q5JF30.1', 'PF10417.14', 155, 198]\n",
      "1404649\n"
     ]
    }
   ],
   "source": [
    "for i in gene_pfam_list[:10]:\n",
    "    print(i)\n",
    "\n",
    "print(len(gene_pfam_list))"
   ]
  },
  {
   "cell_type": "code",
   "execution_count": 16,
   "id": "200281c8-7e56-46e2-9d89-94d4a22c1c54",
   "metadata": {},
   "outputs": [
    {
     "name": "stdout",
     "output_type": "stream",
     "text": [
      "1247434\n"
     ]
    }
   ],
   "source": [
    "unique_genes = set()\n",
    "for i in gene_pfam_list:\n",
    "    unique_genes.add(i[0])\n",
    "\n",
    "unique_genes = list(unique_genes)\n",
    "print(len(unique_genes))"
   ]
  },
  {
   "cell_type": "code",
   "execution_count": 8,
   "id": "6e339594-a8e7-4a3b-9aa9-b2554bea3fc4",
   "metadata": {},
   "outputs": [],
   "source": [
    "unique_genes = list(unique_genes)\n",
    "\n",
    "chunk_size = 100000\n",
    "for idx in range(0, len(unique_genes), chunk_size):\n",
    "    chunk = unique_genes[idx:idx + chunk_size]\n",
    "    filename = f\"unique_genes_chunk_{idx // chunk_size + 1}.txt\"\n",
    "    with open(filename, \"w\") as f:\n",
    "        f.write(\" \".join(chunk))\n"
   ]
  },
  {
   "cell_type": "code",
   "execution_count": 15,
   "id": "61aca063-761f-4d0b-ab48-7cf5279c4c97",
   "metadata": {},
   "outputs": [
    {
     "name": "stdout",
     "output_type": "stream",
     "text": [
      "Batch 1 saved to sequences/sequences_batch_1.fasta (1000 entries).\n",
      "Batch 2 saved to sequences/sequences_batch_2.fasta (1000 entries).\n",
      "Batch 3 saved to sequences/sequences_batch_3.fasta (1000 entries).\n",
      "Batch 4 saved to sequences/sequences_batch_4.fasta (1000 entries).\n",
      "Batch 5 saved to sequences/sequences_batch_5.fasta (1000 entries).\n",
      "Batch 6 saved to sequences/sequences_batch_6.fasta (1000 entries).\n",
      "Batch 7 saved to sequences/sequences_batch_7.fasta (1000 entries).\n",
      "Batch 8 saved to sequences/sequences_batch_8.fasta (1000 entries).\n",
      "Batch 9 saved to sequences/sequences_batch_9.fasta (1000 entries).\n",
      "Batch 10 saved to sequences/sequences_batch_10.fasta (1000 entries).\n",
      "Batch 11 saved to sequences/sequences_batch_11.fasta (1000 entries).\n",
      "Batch 12 saved to sequences/sequences_batch_12.fasta (1000 entries).\n",
      "Batch 13 saved to sequences/sequences_batch_13.fasta (1000 entries).\n",
      "Batch 14 saved to sequences/sequences_batch_14.fasta (1000 entries).\n",
      "Batch 15 saved to sequences/sequences_batch_15.fasta (1000 entries).\n",
      "Batch 16 saved to sequences/sequences_batch_16.fasta (1000 entries).\n",
      "Batch 17 saved to sequences/sequences_batch_17.fasta (1000 entries).\n",
      "Batch 18 saved to sequences/sequences_batch_18.fasta (1000 entries).\n",
      "Batch 19 saved to sequences/sequences_batch_19.fasta (1000 entries).\n",
      "Batch 20 saved to sequences/sequences_batch_20.fasta (1000 entries).\n",
      "Batch 21 saved to sequences/sequences_batch_21.fasta (1000 entries).\n",
      "Batch 22 saved to sequences/sequences_batch_22.fasta (1000 entries).\n",
      "Batch 23 saved to sequences/sequences_batch_23.fasta (1000 entries).\n",
      "Batch 24 saved to sequences/sequences_batch_24.fasta (1000 entries).\n",
      "Batch 25 saved to sequences/sequences_batch_25.fasta (1000 entries).\n"
     ]
    }
   ],
   "source": [
    "import requests\n",
    "import os\n",
    "\n",
    "def fetch_uniprot_fasta_batch(accessions, batch_size=10000, output_prefix=\"sequences_batch\"):\n",
    "    url = \"https://rest.uniprot.org/uniprotkb/stream\"\n",
    "    # os.makedirs(\"batches\", exist_ok=True)  # Save files in a folder named 'batches'\n",
    "\n",
    "    for i in range(0, int(len(accessions)/50), batch_size):\n",
    "        batch = accessions[i:i + batch_size]\n",
    "        params = {\n",
    "            \"format\": \"fasta\",\n",
    "            \"query\": \" OR \".join(batch)\n",
    "        }\n",
    "        response = requests.get(url, params=params)\n",
    "\n",
    "        batch_number = i // batch_size + 1\n",
    "        output_file = f\"sequences/{output_prefix}_{batch_number}.fasta\"\n",
    "\n",
    "        if response.ok:\n",
    "            with open(output_file, \"w\") as f:\n",
    "                f.write(response.text)\n",
    "            print(f\"Batch {batch_number} saved to {output_file} ({len(batch)} entries).\")\n",
    "        else:\n",
    "            print(f\"Failed to retrieve batch {batch_number}: {response.status_code}\")\n",
    "\n",
    "\n",
    "\n",
    "fetch_uniprot_fasta_batch(unique_genes, batch_size=1000)"
   ]
  },
  {
   "cell_type": "code",
   "execution_count": 37,
   "id": "a8a67265-b0fa-44b0-ad27-3e36b8a02038",
   "metadata": {},
   "outputs": [],
   "source": [
    "from Bio import SeqIO\n",
    "import pandas as pd\n",
    "from Bio.SeqIO.FastaIO import SimpleFastaParser\n",
    "\n",
    "with open('sequences/sequences_batch_10.fasta') as fasta_file:  # Will close handle cleanly\n",
    "    identifiers = []\n",
    "    sequences = []\n",
    "    for title, sequence in SimpleFastaParser(fasta_file):\n",
    "        identifiers.append(title.split(\"|\")[1])\n",
    "        sequences.append(sequence)\n"
   ]
  },
  {
   "cell_type": "code",
   "execution_count": 27,
   "id": "b888d1d4-5a12-4a96-9c3d-e4934ff3f57a",
   "metadata": {},
   "outputs": [
    {
     "data": {
      "text/plain": [
       "['D9QDE2.1',\n",
       " 'A0A1H3DFC8.1',\n",
       " 'M9TCE6.1',\n",
       " 'Q5KFS3.1',\n",
       " 'S2JEP5.1',\n",
       " 'A0A0K1XCU9.1',\n",
       " 'K7ENQ8.2',\n",
       " 'A9CHP7.1',\n",
       " 'Q9Y959.2',\n",
       " 'A0A4P7JMD4.1']"
      ]
     },
     "execution_count": 27,
     "metadata": {},
     "output_type": "execute_result"
    }
   ],
   "source": [
    "unique_genes[:10]"
   ]
  },
  {
   "cell_type": "code",
   "execution_count": 38,
   "id": "eb12af70-489f-43fc-b139-aea62f3fabc5",
   "metadata": {},
   "outputs": [
    {
     "name": "stdout",
     "output_type": "stream",
     "text": [
      "951\n",
      "951\n"
     ]
    }
   ],
   "source": [
    "print(len(identifiers))\n",
    "\n",
    "print(len(set(identifiers)))"
   ]
  },
  {
   "cell_type": "code",
   "execution_count": 41,
   "id": "80d5e2dd-b7d1-4bbc-bce5-3db2c0798bc8",
   "metadata": {},
   "outputs": [],
   "source": [
    "from Bio.SeqIO.FastaIO import SimpleFastaParser\n",
    "import pandas as pd\n",
    "\n",
    "identifiers = []\n",
    "sequences = []\n",
    "\n",
    "# Loop through batch files 1 to 10\n",
    "for i in range(1, 11):\n",
    "    filepath = f'sequences/sequences_batch_{i}.fasta'\n",
    "    with open(filepath) as fasta_file:\n",
    "        for title, sequence in SimpleFastaParser(fasta_file):\n",
    "            identifiers.append(title.split(\"|\")[1])\n",
    "            sequences.append(sequence)\n",
    "\n",
    "# Create DataFrame\n",
    "df = pd.DataFrame({'id': identifiers, 'sequence': sequences})\n",
    "\n",
    "df['pfams'] = df['sequence'].apply(lambda seq: [None] * len(seq))"
   ]
  },
  {
   "cell_type": "code",
   "execution_count": 42,
   "id": "6004b211-8b13-4062-8cd1-81593825d9f2",
   "metadata": {},
   "outputs": [
    {
     "data": {
      "text/html": [
       "<div>\n",
       "<style scoped>\n",
       "    .dataframe tbody tr th:only-of-type {\n",
       "        vertical-align: middle;\n",
       "    }\n",
       "\n",
       "    .dataframe tbody tr th {\n",
       "        vertical-align: top;\n",
       "    }\n",
       "\n",
       "    .dataframe thead th {\n",
       "        text-align: right;\n",
       "    }\n",
       "</style>\n",
       "<table border=\"1\" class=\"dataframe\">\n",
       "  <thead>\n",
       "    <tr style=\"text-align: right;\">\n",
       "      <th></th>\n",
       "      <th>id</th>\n",
       "      <th>sequence</th>\n",
       "      <th>pfams</th>\n",
       "    </tr>\n",
       "  </thead>\n",
       "  <tbody>\n",
       "    <tr>\n",
       "      <th>0</th>\n",
       "      <td>B6HMS2</td>\n",
       "      <td>MGEVFLDKTISLLSSDKQKARSDGLAVFHLPRQTLNDKACHKIFES...</td>\n",
       "      <td>[None, None, None, None, None, None, None, Non...</td>\n",
       "    </tr>\n",
       "    <tr>\n",
       "      <th>1</th>\n",
       "      <td>O13688</td>\n",
       "      <td>MNASNNISKFPDLDNSSKLIDHILDSDDSEELDELPDISSLVPSAR...</td>\n",
       "      <td>[None, None, None, None, None, None, None, Non...</td>\n",
       "    </tr>\n",
       "    <tr>\n",
       "      <th>2</th>\n",
       "      <td>O13710</td>\n",
       "      <td>MDGLRPSKRRKSNPLYSDYALGSIVRIKLVNFVTYDYCELFPGPYL...</td>\n",
       "      <td>[None, None, None, None, None, None, None, Non...</td>\n",
       "    </tr>\n",
       "    <tr>\n",
       "      <th>3</th>\n",
       "      <td>O14646</td>\n",
       "      <td>MNGHSDEESVRNSSGESSQSDDDSGSASGSGSGSSSGSSSDGSSSQ...</td>\n",
       "      <td>[None, None, None, None, None, None, None, Non...</td>\n",
       "    </tr>\n",
       "    <tr>\n",
       "      <th>4</th>\n",
       "      <td>O60341</td>\n",
       "      <td>MLSGKKAAAAAAAAAAAATGTEAGPGTAGGSENGSEVAAQPAGLSG...</td>\n",
       "      <td>[None, None, None, None, None, None, None, Non...</td>\n",
       "    </tr>\n",
       "    <tr>\n",
       "      <th>...</th>\n",
       "      <td>...</td>\n",
       "      <td>...</td>\n",
       "      <td>...</td>\n",
       "    </tr>\n",
       "    <tr>\n",
       "      <th>9324</th>\n",
       "      <td>W1QJR7</td>\n",
       "      <td>MPPKKAQKAQKDAEKKKNAKKVQKQLEDKTFGLKNKNKSKKVQQYV...</td>\n",
       "      <td>[None, None, None, None, None, None, None, Non...</td>\n",
       "    </tr>\n",
       "    <tr>\n",
       "      <th>9325</th>\n",
       "      <td>W5TR13</td>\n",
       "      <td>MAMPDDSEPPPRTRRRTRITLTGDGPALIEGPVELLTADGRTVRSD...</td>\n",
       "      <td>[None, None, None, None, None, None, None, Non...</td>\n",
       "    </tr>\n",
       "    <tr>\n",
       "      <th>9326</th>\n",
       "      <td>W7YA85</td>\n",
       "      <td>MKKSKLKVKKHLNRYERFIGHTYVFLMFAAILGSCTYFLLKQNKDL...</td>\n",
       "      <td>[None, None, None, None, None, None, None, Non...</td>\n",
       "    </tr>\n",
       "    <tr>\n",
       "      <th>9327</th>\n",
       "      <td>W8KFH6</td>\n",
       "      <td>MLLKIRDKASGWFAYAIIIMITIPFALWGVHEYFGGGARLVAAEVN...</td>\n",
       "      <td>[None, None, None, None, None, None, None, Non...</td>\n",
       "    </tr>\n",
       "    <tr>\n",
       "      <th>9328</th>\n",
       "      <td>X0PSY2</td>\n",
       "      <td>MRTSKPYARLTKILITVLIVVFSILIAGGFLIFKNEAPRPAKIVNT...</td>\n",
       "      <td>[None, None, None, None, None, None, None, Non...</td>\n",
       "    </tr>\n",
       "  </tbody>\n",
       "</table>\n",
       "<p>9329 rows × 3 columns</p>\n",
       "</div>"
      ],
      "text/plain": [
       "          id                                           sequence  \\\n",
       "0     B6HMS2  MGEVFLDKTISLLSSDKQKARSDGLAVFHLPRQTLNDKACHKIFES...   \n",
       "1     O13688  MNASNNISKFPDLDNSSKLIDHILDSDDSEELDELPDISSLVPSAR...   \n",
       "2     O13710  MDGLRPSKRRKSNPLYSDYALGSIVRIKLVNFVTYDYCELFPGPYL...   \n",
       "3     O14646  MNGHSDEESVRNSSGESSQSDDDSGSASGSGSGSSSGSSSDGSSSQ...   \n",
       "4     O60341  MLSGKKAAAAAAAAAAAATGTEAGPGTAGGSENGSEVAAQPAGLSG...   \n",
       "...      ...                                                ...   \n",
       "9324  W1QJR7  MPPKKAQKAQKDAEKKKNAKKVQKQLEDKTFGLKNKNKSKKVQQYV...   \n",
       "9325  W5TR13  MAMPDDSEPPPRTRRRTRITLTGDGPALIEGPVELLTADGRTVRSD...   \n",
       "9326  W7YA85  MKKSKLKVKKHLNRYERFIGHTYVFLMFAAILGSCTYFLLKQNKDL...   \n",
       "9327  W8KFH6  MLLKIRDKASGWFAYAIIIMITIPFALWGVHEYFGGGARLVAAEVN...   \n",
       "9328  X0PSY2  MRTSKPYARLTKILITVLIVVFSILIAGGFLIFKNEAPRPAKIVNT...   \n",
       "\n",
       "                                                  pfams  \n",
       "0     [None, None, None, None, None, None, None, Non...  \n",
       "1     [None, None, None, None, None, None, None, Non...  \n",
       "2     [None, None, None, None, None, None, None, Non...  \n",
       "3     [None, None, None, None, None, None, None, Non...  \n",
       "4     [None, None, None, None, None, None, None, Non...  \n",
       "...                                                 ...  \n",
       "9324  [None, None, None, None, None, None, None, Non...  \n",
       "9325  [None, None, None, None, None, None, None, Non...  \n",
       "9326  [None, None, None, None, None, None, None, Non...  \n",
       "9327  [None, None, None, None, None, None, None, Non...  \n",
       "9328  [None, None, None, None, None, None, None, Non...  \n",
       "\n",
       "[9329 rows x 3 columns]"
      ]
     },
     "execution_count": 42,
     "metadata": {},
     "output_type": "execute_result"
    }
   ],
   "source": [
    "df"
   ]
  },
  {
   "cell_type": "code",
   "execution_count": 46,
   "id": "9b6105f6-fe15-4a53-bff7-305c0d9fdc4e",
   "metadata": {},
   "outputs": [],
   "source": [
    "# Populate pfams\n",
    "\n",
    "for id, pfam, start, end in gene_pfam_list[:10000]:\n",
    "    # Get the index of the row where 'id' matches\n",
    "    idx = df[df['id'] == id].index\n",
    "    if not idx.empty:\n",
    "        i = idx[0]  # assuming 'id' is unique\n",
    "        df.at[i, 'pfams'][start:end] = [pfam] * (end - start)\n"
   ]
  },
  {
   "cell_type": "code",
   "execution_count": 48,
   "id": "e2767285-e550-4dd9-a4f7-b5d0255d4f9b",
   "metadata": {},
   "outputs": [
    {
     "ename": "NameError",
     "evalue": "name 'view' is not defined",
     "output_type": "error",
     "traceback": [
      "\u001b[0;31m---------------------------------------------------------------------------\u001b[0m",
      "\u001b[0;31mNameError\u001b[0m                                 Traceback (most recent call last)",
      "Cell \u001b[0;32mIn[48], line 1\u001b[0m\n\u001b[0;32m----> 1\u001b[0m \u001b[43mview\u001b[49m(df)\n",
      "\u001b[0;31mNameError\u001b[0m: name 'view' is not defined"
     ]
    }
   ],
   "source": [
    "view(df)"
   ]
  },
  {
   "cell_type": "code",
   "execution_count": 49,
   "id": "b3a9aaa5-b716-47f7-a4ea-317c35a19c6a",
   "metadata": {},
   "outputs": [
    {
     "ename": "ModuleNotFoundError",
     "evalue": "No module named 'itables'",
     "output_type": "error",
     "traceback": [
      "\u001b[0;31m---------------------------------------------------------------------------\u001b[0m",
      "\u001b[0;31mModuleNotFoundError\u001b[0m                       Traceback (most recent call last)",
      "Cell \u001b[0;32mIn[49], line 1\u001b[0m\n\u001b[0;32m----> 1\u001b[0m \u001b[38;5;28;01mimport\u001b[39;00m \u001b[38;5;21;01mitables\u001b[39;00m\n\u001b[1;32m      3\u001b[0m itables\u001b[38;5;241m.\u001b[39minit_notebook_mode()\n",
      "\u001b[0;31mModuleNotFoundError\u001b[0m: No module named 'itables'"
     ]
    }
   ],
   "source": [
    "import itables\n",
    "\n",
    "itables.init_notebook_mode()\n"
   ]
  }
 ],
 "metadata": {
  "kernelspec": {
   "display_name": "Python 3 (ipykernel)",
   "language": "python",
   "name": "python3"
  },
  "language_info": {
   "codemirror_mode": {
    "name": "ipython",
    "version": 3
   },
   "file_extension": ".py",
   "mimetype": "text/x-python",
   "name": "python",
   "nbconvert_exporter": "python",
   "pygments_lexer": "ipython3",
   "version": "3.10.12"
  }
 },
 "nbformat": 4,
 "nbformat_minor": 5
}
